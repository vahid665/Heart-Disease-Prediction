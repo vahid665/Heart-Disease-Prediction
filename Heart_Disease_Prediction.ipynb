{
 "cells": [
  {
   "cell_type": "markdown",
   "metadata": {
    "id": "CU5Ry1mrc2R4"
   },
   "source": [
    "# **Heart Disease Prediction**"
   ]
  },
  {
   "cell_type": "code",
   "execution_count": 1,
   "metadata": {
    "id": "sc_xS72zJce1"
   },
   "outputs": [],
   "source": [
    "import numpy as np\n",
    "import pandas as pd\n",
    "import matplotlib.pyplot as plt\n",
    "import seaborn as sns\n",
    "from warnings import filterwarnings\n",
    "filterwarnings('ignore')"
   ]
  },
  {
   "cell_type": "code",
   "execution_count": 2,
   "metadata": {
    "id": "XiA1VZtaJg5L"
   },
   "outputs": [],
   "source": [
    "data = pd.read_csv('heart.csv')"
   ]
  },
  {
   "cell_type": "code",
   "execution_count": 3,
   "metadata": {
    "colab": {
     "base_uri": "https://localhost:8080/",
     "height": 423
    },
    "id": "s36lSRJYJkoc",
    "outputId": "764d7030-fc3d-42d6-dce0-6636c5f5bb3e"
   },
   "outputs": [
    {
     "data": {
      "text/html": [
       "<div>\n",
       "<style scoped>\n",
       "    .dataframe tbody tr th:only-of-type {\n",
       "        vertical-align: middle;\n",
       "    }\n",
       "\n",
       "    .dataframe tbody tr th {\n",
       "        vertical-align: top;\n",
       "    }\n",
       "\n",
       "    .dataframe thead th {\n",
       "        text-align: right;\n",
       "    }\n",
       "</style>\n",
       "<table border=\"1\" class=\"dataframe\">\n",
       "  <thead>\n",
       "    <tr style=\"text-align: right;\">\n",
       "      <th></th>\n",
       "      <th>age</th>\n",
       "      <th>sex</th>\n",
       "      <th>cp</th>\n",
       "      <th>trestbps</th>\n",
       "      <th>chol</th>\n",
       "      <th>fbs</th>\n",
       "      <th>restecg</th>\n",
       "      <th>thalach</th>\n",
       "      <th>exang</th>\n",
       "      <th>oldpeak</th>\n",
       "      <th>slope</th>\n",
       "      <th>ca</th>\n",
       "      <th>thal</th>\n",
       "      <th>target</th>\n",
       "    </tr>\n",
       "  </thead>\n",
       "  <tbody>\n",
       "    <tr>\n",
       "      <th>0</th>\n",
       "      <td>63</td>\n",
       "      <td>1</td>\n",
       "      <td>3</td>\n",
       "      <td>145</td>\n",
       "      <td>233</td>\n",
       "      <td>1</td>\n",
       "      <td>0</td>\n",
       "      <td>150</td>\n",
       "      <td>0</td>\n",
       "      <td>2.3</td>\n",
       "      <td>0</td>\n",
       "      <td>0</td>\n",
       "      <td>1</td>\n",
       "      <td>1</td>\n",
       "    </tr>\n",
       "    <tr>\n",
       "      <th>1</th>\n",
       "      <td>37</td>\n",
       "      <td>1</td>\n",
       "      <td>2</td>\n",
       "      <td>130</td>\n",
       "      <td>250</td>\n",
       "      <td>0</td>\n",
       "      <td>1</td>\n",
       "      <td>187</td>\n",
       "      <td>0</td>\n",
       "      <td>3.5</td>\n",
       "      <td>0</td>\n",
       "      <td>0</td>\n",
       "      <td>2</td>\n",
       "      <td>1</td>\n",
       "    </tr>\n",
       "    <tr>\n",
       "      <th>2</th>\n",
       "      <td>41</td>\n",
       "      <td>0</td>\n",
       "      <td>1</td>\n",
       "      <td>130</td>\n",
       "      <td>204</td>\n",
       "      <td>0</td>\n",
       "      <td>0</td>\n",
       "      <td>172</td>\n",
       "      <td>0</td>\n",
       "      <td>1.4</td>\n",
       "      <td>2</td>\n",
       "      <td>0</td>\n",
       "      <td>2</td>\n",
       "      <td>1</td>\n",
       "    </tr>\n",
       "    <tr>\n",
       "      <th>3</th>\n",
       "      <td>56</td>\n",
       "      <td>1</td>\n",
       "      <td>1</td>\n",
       "      <td>120</td>\n",
       "      <td>236</td>\n",
       "      <td>0</td>\n",
       "      <td>1</td>\n",
       "      <td>178</td>\n",
       "      <td>0</td>\n",
       "      <td>0.8</td>\n",
       "      <td>2</td>\n",
       "      <td>0</td>\n",
       "      <td>2</td>\n",
       "      <td>1</td>\n",
       "    </tr>\n",
       "    <tr>\n",
       "      <th>4</th>\n",
       "      <td>57</td>\n",
       "      <td>0</td>\n",
       "      <td>0</td>\n",
       "      <td>120</td>\n",
       "      <td>354</td>\n",
       "      <td>0</td>\n",
       "      <td>1</td>\n",
       "      <td>163</td>\n",
       "      <td>1</td>\n",
       "      <td>0.6</td>\n",
       "      <td>2</td>\n",
       "      <td>0</td>\n",
       "      <td>2</td>\n",
       "      <td>1</td>\n",
       "    </tr>\n",
       "    <tr>\n",
       "      <th>...</th>\n",
       "      <td>...</td>\n",
       "      <td>...</td>\n",
       "      <td>...</td>\n",
       "      <td>...</td>\n",
       "      <td>...</td>\n",
       "      <td>...</td>\n",
       "      <td>...</td>\n",
       "      <td>...</td>\n",
       "      <td>...</td>\n",
       "      <td>...</td>\n",
       "      <td>...</td>\n",
       "      <td>...</td>\n",
       "      <td>...</td>\n",
       "      <td>...</td>\n",
       "    </tr>\n",
       "    <tr>\n",
       "      <th>298</th>\n",
       "      <td>57</td>\n",
       "      <td>0</td>\n",
       "      <td>0</td>\n",
       "      <td>140</td>\n",
       "      <td>241</td>\n",
       "      <td>0</td>\n",
       "      <td>1</td>\n",
       "      <td>123</td>\n",
       "      <td>1</td>\n",
       "      <td>0.2</td>\n",
       "      <td>1</td>\n",
       "      <td>0</td>\n",
       "      <td>3</td>\n",
       "      <td>0</td>\n",
       "    </tr>\n",
       "    <tr>\n",
       "      <th>299</th>\n",
       "      <td>45</td>\n",
       "      <td>1</td>\n",
       "      <td>3</td>\n",
       "      <td>110</td>\n",
       "      <td>264</td>\n",
       "      <td>0</td>\n",
       "      <td>1</td>\n",
       "      <td>132</td>\n",
       "      <td>0</td>\n",
       "      <td>1.2</td>\n",
       "      <td>1</td>\n",
       "      <td>0</td>\n",
       "      <td>3</td>\n",
       "      <td>0</td>\n",
       "    </tr>\n",
       "    <tr>\n",
       "      <th>300</th>\n",
       "      <td>68</td>\n",
       "      <td>1</td>\n",
       "      <td>0</td>\n",
       "      <td>144</td>\n",
       "      <td>193</td>\n",
       "      <td>1</td>\n",
       "      <td>1</td>\n",
       "      <td>141</td>\n",
       "      <td>0</td>\n",
       "      <td>3.4</td>\n",
       "      <td>1</td>\n",
       "      <td>2</td>\n",
       "      <td>3</td>\n",
       "      <td>0</td>\n",
       "    </tr>\n",
       "    <tr>\n",
       "      <th>301</th>\n",
       "      <td>57</td>\n",
       "      <td>1</td>\n",
       "      <td>0</td>\n",
       "      <td>130</td>\n",
       "      <td>131</td>\n",
       "      <td>0</td>\n",
       "      <td>1</td>\n",
       "      <td>115</td>\n",
       "      <td>1</td>\n",
       "      <td>1.2</td>\n",
       "      <td>1</td>\n",
       "      <td>1</td>\n",
       "      <td>3</td>\n",
       "      <td>0</td>\n",
       "    </tr>\n",
       "    <tr>\n",
       "      <th>302</th>\n",
       "      <td>57</td>\n",
       "      <td>0</td>\n",
       "      <td>1</td>\n",
       "      <td>130</td>\n",
       "      <td>236</td>\n",
       "      <td>0</td>\n",
       "      <td>0</td>\n",
       "      <td>174</td>\n",
       "      <td>0</td>\n",
       "      <td>0.0</td>\n",
       "      <td>1</td>\n",
       "      <td>1</td>\n",
       "      <td>2</td>\n",
       "      <td>0</td>\n",
       "    </tr>\n",
       "  </tbody>\n",
       "</table>\n",
       "<p>303 rows × 14 columns</p>\n",
       "</div>"
      ],
      "text/plain": [
       "     age  sex  cp  trestbps  chol  fbs  restecg  thalach  exang  oldpeak  \\\n",
       "0     63    1   3       145   233    1        0      150      0      2.3   \n",
       "1     37    1   2       130   250    0        1      187      0      3.5   \n",
       "2     41    0   1       130   204    0        0      172      0      1.4   \n",
       "3     56    1   1       120   236    0        1      178      0      0.8   \n",
       "4     57    0   0       120   354    0        1      163      1      0.6   \n",
       "..   ...  ...  ..       ...   ...  ...      ...      ...    ...      ...   \n",
       "298   57    0   0       140   241    0        1      123      1      0.2   \n",
       "299   45    1   3       110   264    0        1      132      0      1.2   \n",
       "300   68    1   0       144   193    1        1      141      0      3.4   \n",
       "301   57    1   0       130   131    0        1      115      1      1.2   \n",
       "302   57    0   1       130   236    0        0      174      0      0.0   \n",
       "\n",
       "     slope  ca  thal  target  \n",
       "0        0   0     1       1  \n",
       "1        0   0     2       1  \n",
       "2        2   0     2       1  \n",
       "3        2   0     2       1  \n",
       "4        2   0     2       1  \n",
       "..     ...  ..   ...     ...  \n",
       "298      1   0     3       0  \n",
       "299      1   0     3       0  \n",
       "300      1   2     3       0  \n",
       "301      1   1     3       0  \n",
       "302      1   1     2       0  \n",
       "\n",
       "[303 rows x 14 columns]"
      ]
     },
     "execution_count": 3,
     "metadata": {},
     "output_type": "execute_result"
    }
   ],
   "source": [
    "data"
   ]
  },
  {
   "cell_type": "code",
   "execution_count": 4,
   "metadata": {
    "id": "9ldC7BjGJ2aO"
   },
   "outputs": [],
   "source": [
    "df=data.copy(deep=True)"
   ]
  },
  {
   "cell_type": "markdown",
   "metadata": {
    "id": "DZ0U7wwwchPS"
   },
   "source": [
    "# **Data Cleaning**"
   ]
  },
  {
   "cell_type": "code",
   "execution_count": 5,
   "metadata": {
    "colab": {
     "base_uri": "https://localhost:8080/"
    },
    "id": "8UegJ7E8WPqS",
    "outputId": "e60975ad-070e-41f5-967b-b15cbccdb6c7"
   },
   "outputs": [
    {
     "data": {
      "text/plain": [
       "Index(['age', 'sex', 'cp', 'trestbps', 'chol', 'fbs', 'restecg', 'thalach',\n",
       "       'exang', 'oldpeak', 'slope', 'ca', 'thal', 'target'],\n",
       "      dtype='object')"
      ]
     },
     "execution_count": 5,
     "metadata": {},
     "output_type": "execute_result"
    }
   ],
   "source": [
    "df.columns"
   ]
  },
  {
   "cell_type": "code",
   "execution_count": 6,
   "metadata": {
    "id": "pEMka-RtWWoy"
   },
   "outputs": [],
   "source": [
    "df.columns=['yas','cinsiyyet','sine_agrisi','istirahet_halinda_qan_tezyiqi','xolesterol',\n",
    "          'acqar_qan_sekeri_120_ustudurmu','ritm_pozgunlugu_varmi',\n",
    "          '1_deqiqedeki_max_doyuntu_sayi','fiziki_fealiyyetle_bagli_angina',\n",
    "          'oldpeak','slope','fluoroskopiya_zamani_gorunen_damarlarin_sayi', 'stres_testi_neticesi',\n",
    "          'insan_urek_xestesidirmi'\n",
    "            ]"
   ]
  },
  {
   "cell_type": "code",
   "execution_count": 7,
   "metadata": {
    "colab": {
     "base_uri": "https://localhost:8080/",
     "height": 523
    },
    "id": "Yuuj4TqYZKwb",
    "outputId": "63eac4a2-455d-40ab-9ccc-50c53b5d5abb"
   },
   "outputs": [
    {
     "data": {
      "text/plain": [
       "yas                                             0\n",
       "cinsiyyet                                       0\n",
       "sine_agrisi                                     0\n",
       "istirahet_halinda_qan_tezyiqi                   0\n",
       "xolesterol                                      0\n",
       "acqar_qan_sekeri_120_ustudurmu                  0\n",
       "ritm_pozgunlugu_varmi                           0\n",
       "1_deqiqedeki_max_doyuntu_sayi                   0\n",
       "fiziki_fealiyyetle_bagli_angina                 0\n",
       "oldpeak                                         0\n",
       "slope                                           0\n",
       "fluoroskopiya_zamani_gorunen_damarlarin_sayi    0\n",
       "stres_testi_neticesi                            0\n",
       "insan_urek_xestesidirmi                         0\n",
       "dtype: int64"
      ]
     },
     "execution_count": 7,
     "metadata": {},
     "output_type": "execute_result"
    }
   ],
   "source": [
    "df[df<0].count() # 0dan kicik olan deyerlerin sayi sutunlar uzre"
   ]
  },
  {
   "cell_type": "code",
   "execution_count": 8,
   "metadata": {
    "colab": {
     "base_uri": "https://localhost:8080/"
    },
    "id": "GM--ZAqKJ6Sx",
    "outputId": "1760cd96-8724-4689-ed8d-2c48e59eec93"
   },
   "outputs": [
    {
     "name": "stdout",
     "output_type": "stream",
     "text": [
      "<class 'pandas.core.frame.DataFrame'>\n",
      "RangeIndex: 303 entries, 0 to 302\n",
      "Data columns (total 14 columns):\n",
      " #   Column                                        Non-Null Count  Dtype  \n",
      "---  ------                                        --------------  -----  \n",
      " 0   yas                                           303 non-null    int64  \n",
      " 1   cinsiyyet                                     303 non-null    int64  \n",
      " 2   sine_agrisi                                   303 non-null    int64  \n",
      " 3   istirahet_halinda_qan_tezyiqi                 303 non-null    int64  \n",
      " 4   xolesterol                                    303 non-null    int64  \n",
      " 5   acqar_qan_sekeri_120_ustudurmu                303 non-null    int64  \n",
      " 6   ritm_pozgunlugu_varmi                         303 non-null    int64  \n",
      " 7   1_deqiqedeki_max_doyuntu_sayi                 303 non-null    int64  \n",
      " 8   fiziki_fealiyyetle_bagli_angina               303 non-null    int64  \n",
      " 9   oldpeak                                       303 non-null    float64\n",
      " 10  slope                                         303 non-null    int64  \n",
      " 11  fluoroskopiya_zamani_gorunen_damarlarin_sayi  303 non-null    int64  \n",
      " 12  stres_testi_neticesi                          303 non-null    int64  \n",
      " 13  insan_urek_xestesidirmi                       303 non-null    int64  \n",
      "dtypes: float64(1), int64(13)\n",
      "memory usage: 33.3 KB\n"
     ]
    }
   ],
   "source": [
    "# daha boyuk melumata baxmaq ucun ( meselen null deyerler, toplam data sayi, dtypelar , memory usage)\n",
    "df.info()"
   ]
  },
  {
   "cell_type": "code",
   "execution_count": 9,
   "metadata": {
    "colab": {
     "base_uri": "https://localhost:8080/",
     "height": 523
    },
    "id": "L_2ntr2JJ4no",
    "outputId": "538b072d-3513-468a-f0ae-50d8f5d66c84"
   },
   "outputs": [
    {
     "data": {
      "text/plain": [
       "yas                                               int64\n",
       "cinsiyyet                                         int64\n",
       "sine_agrisi                                       int64\n",
       "istirahet_halinda_qan_tezyiqi                     int64\n",
       "xolesterol                                        int64\n",
       "acqar_qan_sekeri_120_ustudurmu                    int64\n",
       "ritm_pozgunlugu_varmi                             int64\n",
       "1_deqiqedeki_max_doyuntu_sayi                     int64\n",
       "fiziki_fealiyyetle_bagli_angina                   int64\n",
       "oldpeak                                         float64\n",
       "slope                                             int64\n",
       "fluoroskopiya_zamani_gorunen_damarlarin_sayi      int64\n",
       "stres_testi_neticesi                              int64\n",
       "insan_urek_xestesidirmi                           int64\n",
       "dtype: object"
      ]
     },
     "execution_count": 9,
     "metadata": {},
     "output_type": "execute_result"
    }
   ],
   "source": [
    "# ancaq data tiplere baxmaq ucun\n",
    "df.dtypes"
   ]
  },
  {
   "cell_type": "code",
   "execution_count": 10,
   "metadata": {
    "colab": {
     "base_uri": "https://localhost:8080/",
     "height": 132
    },
    "id": "M_jbr1YfOjse",
    "outputId": "34815761-aa00-4f7b-de45-97c0a280c32e"
   },
   "outputs": [
    {
     "data": {
      "text/html": [
       "<div>\n",
       "<style scoped>\n",
       "    .dataframe tbody tr th:only-of-type {\n",
       "        vertical-align: middle;\n",
       "    }\n",
       "\n",
       "    .dataframe tbody tr th {\n",
       "        vertical-align: top;\n",
       "    }\n",
       "\n",
       "    .dataframe thead th {\n",
       "        text-align: right;\n",
       "    }\n",
       "</style>\n",
       "<table border=\"1\" class=\"dataframe\">\n",
       "  <thead>\n",
       "    <tr style=\"text-align: right;\">\n",
       "      <th></th>\n",
       "      <th>yas</th>\n",
       "      <th>cinsiyyet</th>\n",
       "      <th>sine_agrisi</th>\n",
       "      <th>istirahet_halinda_qan_tezyiqi</th>\n",
       "      <th>xolesterol</th>\n",
       "      <th>acqar_qan_sekeri_120_ustudurmu</th>\n",
       "      <th>ritm_pozgunlugu_varmi</th>\n",
       "      <th>1_deqiqedeki_max_doyuntu_sayi</th>\n",
       "      <th>fiziki_fealiyyetle_bagli_angina</th>\n",
       "      <th>oldpeak</th>\n",
       "      <th>slope</th>\n",
       "      <th>fluoroskopiya_zamani_gorunen_damarlarin_sayi</th>\n",
       "      <th>stres_testi_neticesi</th>\n",
       "      <th>insan_urek_xestesidirmi</th>\n",
       "    </tr>\n",
       "  </thead>\n",
       "  <tbody>\n",
       "    <tr>\n",
       "      <th>163</th>\n",
       "      <td>38</td>\n",
       "      <td>1</td>\n",
       "      <td>2</td>\n",
       "      <td>138</td>\n",
       "      <td>175</td>\n",
       "      <td>0</td>\n",
       "      <td>1</td>\n",
       "      <td>173</td>\n",
       "      <td>0</td>\n",
       "      <td>0.0</td>\n",
       "      <td>2</td>\n",
       "      <td>4</td>\n",
       "      <td>2</td>\n",
       "      <td>1</td>\n",
       "    </tr>\n",
       "    <tr>\n",
       "      <th>164</th>\n",
       "      <td>38</td>\n",
       "      <td>1</td>\n",
       "      <td>2</td>\n",
       "      <td>138</td>\n",
       "      <td>175</td>\n",
       "      <td>0</td>\n",
       "      <td>1</td>\n",
       "      <td>173</td>\n",
       "      <td>0</td>\n",
       "      <td>0.0</td>\n",
       "      <td>2</td>\n",
       "      <td>4</td>\n",
       "      <td>2</td>\n",
       "      <td>1</td>\n",
       "    </tr>\n",
       "  </tbody>\n",
       "</table>\n",
       "</div>"
      ],
      "text/plain": [
       "     yas  cinsiyyet  sine_agrisi  istirahet_halinda_qan_tezyiqi  xolesterol  \\\n",
       "163   38          1            2                            138         175   \n",
       "164   38          1            2                            138         175   \n",
       "\n",
       "     acqar_qan_sekeri_120_ustudurmu  ritm_pozgunlugu_varmi  \\\n",
       "163                               0                      1   \n",
       "164                               0                      1   \n",
       "\n",
       "     1_deqiqedeki_max_doyuntu_sayi  fiziki_fealiyyetle_bagli_angina  oldpeak  \\\n",
       "163                            173                                0      0.0   \n",
       "164                            173                                0      0.0   \n",
       "\n",
       "     slope  fluoroskopiya_zamani_gorunen_damarlarin_sayi  \\\n",
       "163      2                                             4   \n",
       "164      2                                             4   \n",
       "\n",
       "     stres_testi_neticesi  insan_urek_xestesidirmi  \n",
       "163                     2                        1  \n",
       "164                     2                        1  "
      ]
     },
     "execution_count": 10,
     "metadata": {},
     "output_type": "execute_result"
    }
   ],
   "source": [
    "df[df.duplicated(keep=False)]"
   ]
  },
  {
   "cell_type": "code",
   "execution_count": 11,
   "metadata": {
    "id": "6pRQ5ZHTOtcP"
   },
   "outputs": [],
   "source": [
    "df.drop_duplicates(inplace=True)"
   ]
  },
  {
   "cell_type": "markdown",
   "metadata": {
    "id": "PaaVfUcZdAa7"
   },
   "source": [
    "# Exploratory Data Analysis"
   ]
  },
  {
   "cell_type": "code",
   "execution_count": 12,
   "metadata": {
    "colab": {
     "base_uri": "https://localhost:8080/",
     "height": 178
    },
    "id": "Hhxw6yqYJ8SW",
    "outputId": "33cce67e-5a42-4693-b43b-4893b36a3de0"
   },
   "outputs": [
    {
     "data": {
      "text/plain": [
       "insan_urek_xestesidirmi\n",
       "1    164\n",
       "0    138\n",
       "Name: count, dtype: int64"
      ]
     },
     "execution_count": 12,
     "metadata": {},
     "output_type": "execute_result"
    }
   ],
   "source": [
    "df['insan_urek_xestesidirmi'].value_counts() # data imbalance deyil, yaxşıdır"
   ]
  },
  {
   "cell_type": "code",
   "execution_count": 13,
   "metadata": {
    "colab": {
     "base_uri": "https://localhost:8080/",
     "height": 1000
    },
    "id": "REH0ImqLJ-x5",
    "outputId": "f3f530ef-f185-4977-e386-b4f6c32b981e"
   },
   "outputs": [
    {
     "data": {
      "text/plain": [
       "yas\n",
       "58    19\n",
       "57    17\n",
       "54    16\n",
       "59    14\n",
       "52    13\n",
       "51    12\n",
       "62    11\n",
       "56    11\n",
       "44    11\n",
       "60    11\n",
       "41    10\n",
       "64    10\n",
       "67     9\n",
       "63     9\n",
       "43     8\n",
       "55     8\n",
       "42     8\n",
       "61     8\n",
       "65     8\n",
       "53     8\n",
       "45     8\n",
       "50     7\n",
       "48     7\n",
       "46     7\n",
       "66     7\n",
       "47     5\n",
       "49     5\n",
       "70     4\n",
       "39     4\n",
       "68     4\n",
       "35     4\n",
       "71     3\n",
       "40     3\n",
       "69     3\n",
       "34     2\n",
       "37     2\n",
       "38     2\n",
       "29     1\n",
       "74     1\n",
       "76     1\n",
       "77     1\n",
       "Name: count, dtype: int64"
      ]
     },
     "execution_count": 13,
     "metadata": {},
     "output_type": "execute_result"
    }
   ],
   "source": [
    "df['yas'].value_counts()"
   ]
  },
  {
   "cell_type": "code",
   "execution_count": 14,
   "metadata": {
    "colab": {
     "base_uri": "https://localhost:8080/",
     "height": 466
    },
    "id": "W10sk_SUKF0q",
    "outputId": "d66bf028-515d-4c1a-dd40-ba79a596b2e5"
   },
   "outputs": [
    {
     "data": {
      "text/plain": [
       "<Axes: xlabel='yas', ylabel='Count'>"
      ]
     },
     "execution_count": 14,
     "metadata": {},
     "output_type": "execute_result"
    },
    {
     "data": {
      "image/png": "[encoded data removed]",
      "text/plain": [
       "<Figure size 640x480 with 1 Axes>"
      ]
     },
     "metadata": {},
     "output_type": "display_data"
    }
   ],
   "source": [
    "sns.histplot(x=df['yas'], color='orange', hue=df['cinsiyyet'])"
   ]
  },
  {
   "cell_type": "code",
   "execution_count": 15,
   "metadata": {
    "colab": {
     "base_uri": "https://localhost:8080/",
     "height": 178
    },
    "id": "MWdSneCNKFya",
    "outputId": "5fe7b765-082b-4a92-a9aa-8d9b34fcb32b"
   },
   "outputs": [
    {
     "data": {
      "text/plain": [
       "cinsiyyet\n",
       "1    206\n",
       "0     96\n",
       "Name: count, dtype: int64"
      ]
     },
     "execution_count": 15,
     "metadata": {},
     "output_type": "execute_result"
    }
   ],
   "source": [
    "df['cinsiyyet'].value_counts()"
   ]
  },
  {
   "cell_type": "code",
   "execution_count": 16,
   "metadata": {
    "id": "QQPVT5X1KFuZ"
   },
   "outputs": [],
   "source": [
    "#1- kisi, 2- qadin"
   ]
  },
  {
   "cell_type": "code",
   "execution_count": 17,
   "metadata": {
    "colab": {
     "base_uri": "https://localhost:8080/",
     "height": 272
    },
    "id": "qLh7QFU_KFsK",
    "outputId": "0c6da760-b014-43d8-d7fb-7c7b806a4aac"
   },
   "outputs": [
    {
     "data": {
      "text/plain": [
       "fluoroskopiya_zamani_gorunen_damarlarin_sayi\n",
       "0    175\n",
       "1     65\n",
       "2     38\n",
       "3     20\n",
       "4      4\n",
       "Name: count, dtype: int64"
      ]
     },
     "execution_count": 17,
     "metadata": {},
     "output_type": "execute_result"
    }
   ],
   "source": [
    "df['fluoroskopiya_zamani_gorunen_damarlarin_sayi'].value_counts()"
   ]
  },
  {
   "cell_type": "code",
   "execution_count": 18,
   "metadata": {
    "colab": {
     "base_uri": "https://localhost:8080/",
     "height": 467
    },
    "id": "xjLpjJEQbtI_",
    "outputId": "acddd0b2-1d9d-4577-a39b-3090466bbf20"
   },
   "outputs": [
    {
     "data": {
      "text/plain": [
       "<Axes: xlabel='insan_urek_xestesidirmi', ylabel='fluoroskopiya_zamani_gorunen_damarlarin_sayi'>"
      ]
     },
     "execution_count": 18,
     "metadata": {},
     "output_type": "execute_result"
    },
    {
     "data": {
      "image/png": "[encoded data removed]",
      "text/plain": [
       "<Figure size 640x480 with 2 Axes>"
      ]
     },
     "metadata": {},
     "output_type": "display_data"
    }
   ],
   "source": [
    "coorelation= pd.crosstab(df['fluoroskopiya_zamani_gorunen_damarlarin_sayi'],df['insan_urek_xestesidirmi'])\n",
    "sns.heatmap(coorelation, annot=True, fmt=',.3f')"
   ]
  },
  {
   "cell_type": "code",
   "execution_count": 19,
   "metadata": {
    "colab": {
     "base_uri": "https://localhost:8080/",
     "height": 467
    },
    "id": "9xsqGijLbXzy",
    "outputId": "c9ffe070-3db4-4a54-c2aa-d094b293cf75"
   },
   "outputs": [
    {
     "ename": "AttributeError",
     "evalue": "'numpy.int64' object has no attribute 'startswith'",
     "output_type": "error",
     "traceback": [
      "\u001b[1;31m---------------------------------------------------------------------------\u001b[0m",
      "\u001b[1;31mAttributeError\u001b[0m                            Traceback (most recent call last)",
      "Cell \u001b[1;32mIn[19], line 1\u001b[0m\n\u001b[1;32m----> 1\u001b[0m sns\u001b[38;5;241m.\u001b[39mcountplot(x\u001b[38;5;241m=\u001b[39mdf[\u001b[38;5;124m'\u001b[39m\u001b[38;5;124mfluoroskopiya_zamani_gorunen_damarlarin_sayi\u001b[39m\u001b[38;5;124m'\u001b[39m], hue\u001b[38;5;241m=\u001b[39mdf[\u001b[38;5;124m'\u001b[39m\u001b[38;5;124minsan_urek_xestesidirmi\u001b[39m\u001b[38;5;124m'\u001b[39m])\n",
      "File \u001b[1;32m~\\anaconda3\\Lib\\site-packages\\seaborn\\categorical.py:2955\u001b[0m, in \u001b[0;36mcountplot\u001b[1;34m(data, x, y, hue, order, hue_order, orient, color, palette, saturation, width, dodge, ax, **kwargs)\u001b[0m\n\u001b[0;32m   2952\u001b[0m \u001b[38;5;28;01mif\u001b[39;00m ax \u001b[38;5;129;01mis\u001b[39;00m \u001b[38;5;28;01mNone\u001b[39;00m:\n\u001b[0;32m   2953\u001b[0m     ax \u001b[38;5;241m=\u001b[39m plt\u001b[38;5;241m.\u001b[39mgca()\n\u001b[1;32m-> 2955\u001b[0m plotter\u001b[38;5;241m.\u001b[39mplot(ax, kwargs)\n\u001b[0;32m   2956\u001b[0m \u001b[38;5;28;01mreturn\u001b[39;00m ax\n",
      "File \u001b[1;32m~\\anaconda3\\Lib\\site-packages\\seaborn\\categorical.py:1587\u001b[0m, in \u001b[0;36m_BarPlotter.plot\u001b[1;34m(self, ax, bar_kws)\u001b[0m\n\u001b[0;32m   1585\u001b[0m \u001b[38;5;250m\u001b[39m\u001b[38;5;124;03m\"\"\"Make the plot.\"\"\"\u001b[39;00m\n\u001b[0;32m   1586\u001b[0m \u001b[38;5;28mself\u001b[39m\u001b[38;5;241m.\u001b[39mdraw_bars(ax, bar_kws)\n\u001b[1;32m-> 1587\u001b[0m \u001b[38;5;28mself\u001b[39m\u001b[38;5;241m.\u001b[39mannotate_axes(ax)\n\u001b[0;32m   1588\u001b[0m \u001b[38;5;28;01mif\u001b[39;00m \u001b[38;5;28mself\u001b[39m\u001b[38;5;241m.\u001b[39morient \u001b[38;5;241m==\u001b[39m \u001b[38;5;124m\"\u001b[39m\u001b[38;5;124mh\u001b[39m\u001b[38;5;124m\"\u001b[39m:\n\u001b[0;32m   1589\u001b[0m     ax\u001b[38;5;241m.\u001b[39minvert_yaxis()\n",
      "File \u001b[1;32m~\\anaconda3\\Lib\\site-packages\\seaborn\\categorical.py:767\u001b[0m, in \u001b[0;36m_CategoricalPlotter.annotate_axes\u001b[1;34m(self, ax)\u001b[0m\n\u001b[0;32m    764\u001b[0m     ax\u001b[38;5;241m.\u001b[39mset_ylim(\u001b[38;5;241m-\u001b[39m\u001b[38;5;241m.5\u001b[39m, \u001b[38;5;28mlen\u001b[39m(\u001b[38;5;28mself\u001b[39m\u001b[38;5;241m.\u001b[39mplot_data) \u001b[38;5;241m-\u001b[39m \u001b[38;5;241m.5\u001b[39m, auto\u001b[38;5;241m=\u001b[39m\u001b[38;5;28;01mNone\u001b[39;00m)\n\u001b[0;32m    766\u001b[0m \u001b[38;5;28;01mif\u001b[39;00m \u001b[38;5;28mself\u001b[39m\u001b[38;5;241m.\u001b[39mhue_names \u001b[38;5;129;01mis\u001b[39;00m \u001b[38;5;129;01mnot\u001b[39;00m \u001b[38;5;28;01mNone\u001b[39;00m:\n\u001b[1;32m--> 767\u001b[0m     ax\u001b[38;5;241m.\u001b[39mlegend(loc\u001b[38;5;241m=\u001b[39m\u001b[38;5;124m\"\u001b[39m\u001b[38;5;124mbest\u001b[39m\u001b[38;5;124m\"\u001b[39m, title\u001b[38;5;241m=\u001b[39m\u001b[38;5;28mself\u001b[39m\u001b[38;5;241m.\u001b[39mhue_title)\n",
      "File \u001b[1;32m~\\anaconda3\\Lib\\site-packages\\matplotlib\\axes\\_axes.py:322\u001b[0m, in \u001b[0;36mAxes.legend\u001b[1;34m(self, *args, **kwargs)\u001b[0m\n\u001b[0;32m    204\u001b[0m \u001b[38;5;129m@_docstring\u001b[39m\u001b[38;5;241m.\u001b[39mdedent_interpd\n\u001b[0;32m    205\u001b[0m \u001b[38;5;28;01mdef\u001b[39;00m \u001b[38;5;21mlegend\u001b[39m(\u001b[38;5;28mself\u001b[39m, \u001b[38;5;241m*\u001b[39margs, \u001b[38;5;241m*\u001b[39m\u001b[38;5;241m*\u001b[39mkwargs):\n\u001b[0;32m    206\u001b[0m \u001b[38;5;250m    \u001b[39m\u001b[38;5;124;03m\"\"\"\u001b[39;00m\n\u001b[0;32m    207\u001b[0m \u001b[38;5;124;03m    Place a legend on the Axes.\u001b[39;00m\n\u001b[0;32m    208\u001b[0m \n\u001b[1;32m   (...)\u001b[0m\n\u001b[0;32m    320\u001b[0m \u001b[38;5;124;03m    .. plot:: gallery/text_labels_and_annotations/legend.py\u001b[39;00m\n\u001b[0;32m    321\u001b[0m \u001b[38;5;124;03m    \"\"\"\u001b[39;00m\n\u001b[1;32m--> 322\u001b[0m     handles, labels, kwargs \u001b[38;5;241m=\u001b[39m mlegend\u001b[38;5;241m.\u001b[39m_parse_legend_args([\u001b[38;5;28mself\u001b[39m], \u001b[38;5;241m*\u001b[39margs, \u001b[38;5;241m*\u001b[39m\u001b[38;5;241m*\u001b[39mkwargs)\n\u001b[0;32m    323\u001b[0m     \u001b[38;5;28mself\u001b[39m\u001b[38;5;241m.\u001b[39mlegend_ \u001b[38;5;241m=\u001b[39m mlegend\u001b[38;5;241m.\u001b[39mLegend(\u001b[38;5;28mself\u001b[39m, handles, labels, \u001b[38;5;241m*\u001b[39m\u001b[38;5;241m*\u001b[39mkwargs)\n\u001b[0;32m    324\u001b[0m     \u001b[38;5;28mself\u001b[39m\u001b[38;5;241m.\u001b[39mlegend_\u001b[38;5;241m.\u001b[39m_remove_method \u001b[38;5;241m=\u001b[39m \u001b[38;5;28mself\u001b[39m\u001b[38;5;241m.\u001b[39m_remove_legend\n",
      "File \u001b[1;32m~\\anaconda3\\Lib\\site-packages\\matplotlib\\legend.py:1361\u001b[0m, in \u001b[0;36m_parse_legend_args\u001b[1;34m(axs, handles, labels, *args, **kwargs)\u001b[0m\n\u001b[0;32m   1357\u001b[0m     handles \u001b[38;5;241m=\u001b[39m [handle \u001b[38;5;28;01mfor\u001b[39;00m handle, label\n\u001b[0;32m   1358\u001b[0m                \u001b[38;5;129;01min\u001b[39;00m \u001b[38;5;28mzip\u001b[39m(_get_legend_handles(axs, handlers), labels)]\n\u001b[0;32m   1360\u001b[0m \u001b[38;5;28;01melif\u001b[39;00m \u001b[38;5;28mlen\u001b[39m(args) \u001b[38;5;241m==\u001b[39m \u001b[38;5;241m0\u001b[39m:  \u001b[38;5;66;03m# 0 args: automatically detect labels and handles.\u001b[39;00m\n\u001b[1;32m-> 1361\u001b[0m     handles, labels \u001b[38;5;241m=\u001b[39m _get_legend_handles_labels(axs, handlers)\n\u001b[0;32m   1362\u001b[0m     \u001b[38;5;28;01mif\u001b[39;00m \u001b[38;5;129;01mnot\u001b[39;00m handles:\n\u001b[0;32m   1363\u001b[0m         log\u001b[38;5;241m.\u001b[39mwarning(\n\u001b[0;32m   1364\u001b[0m             \u001b[38;5;124m\"\u001b[39m\u001b[38;5;124mNo artists with labels found to put in legend.  Note that \u001b[39m\u001b[38;5;124m\"\u001b[39m\n\u001b[0;32m   1365\u001b[0m             \u001b[38;5;124m\"\u001b[39m\u001b[38;5;124martists whose label start with an underscore are ignored \u001b[39m\u001b[38;5;124m\"\u001b[39m\n\u001b[0;32m   1366\u001b[0m             \u001b[38;5;124m\"\u001b[39m\u001b[38;5;124mwhen legend() is called with no argument.\u001b[39m\u001b[38;5;124m\"\u001b[39m)\n",
      "File \u001b[1;32m~\\anaconda3\\Lib\\site-packages\\matplotlib\\legend.py:1291\u001b[0m, in \u001b[0;36m_get_legend_handles_labels\u001b[1;34m(axs, legend_handler_map)\u001b[0m\n\u001b[0;32m   1289\u001b[0m \u001b[38;5;28;01mfor\u001b[39;00m handle \u001b[38;5;129;01min\u001b[39;00m _get_legend_handles(axs, legend_handler_map):\n\u001b[0;32m   1290\u001b[0m     label \u001b[38;5;241m=\u001b[39m handle\u001b[38;5;241m.\u001b[39mget_label()\n\u001b[1;32m-> 1291\u001b[0m     \u001b[38;5;28;01mif\u001b[39;00m label \u001b[38;5;129;01mand\u001b[39;00m \u001b[38;5;129;01mnot\u001b[39;00m label\u001b[38;5;241m.\u001b[39mstartswith(\u001b[38;5;124m'\u001b[39m\u001b[38;5;124m_\u001b[39m\u001b[38;5;124m'\u001b[39m):\n\u001b[0;32m   1292\u001b[0m         handles\u001b[38;5;241m.\u001b[39mappend(handle)\n\u001b[0;32m   1293\u001b[0m         labels\u001b[38;5;241m.\u001b[39mappend(label)\n",
      "\u001b[1;31mAttributeError\u001b[0m: 'numpy.int64' object has no attribute 'startswith'"
     ]
    },
    {
     "data": {
      "image/png": "[encoded data removed]",
      "text/plain": [
       "<Figure size 640x480 with 1 Axes>"
      ]
     },
     "metadata": {},
     "output_type": "display_data"
    }
   ],
   "source": [
    "sns.countplot(x=df['fluoroskopiya_zamani_gorunen_damarlarin_sayi'], hue=df['insan_urek_xestesidirmi'])"
   ]
  },
  {
   "cell_type": "code",
   "execution_count": null,
   "metadata": {
    "colab": {
     "base_uri": "https://localhost:8080/",
     "height": 163
    },
    "id": "cMzdbiRId0YL",
    "outputId": "4975610e-1dad-4cac-b68c-fde2a495921f"
   },
   "outputs": [],
   "source": [
    "\n",
    "df.head(3)"
   ]
  },
  {
   "cell_type": "code",
   "execution_count": null,
   "metadata": {
    "colab": {
     "base_uri": "https://localhost:8080/",
     "height": 466
    },
    "id": "_Yb52iMZKFqT",
    "outputId": "f9fa67cb-ad34-44cc-f86b-9908aeacb007"
   },
   "outputs": [],
   "source": [
    "sns.histplot(df['xolesterol'], color='brown', bins=20)"
   ]
  },
  {
   "cell_type": "markdown",
   "metadata": {
    "id": "-T4RDRWWda_Z"
   },
   "source": [
    "500-ə yaxın dəyəri atmıram, realda bu ola bilər.\n"
   ]
  },
  {
   "cell_type": "code",
   "execution_count": null,
   "metadata": {
    "colab": {
     "base_uri": "https://localhost:8080/",
     "height": 482
    },
    "id": "_1L5e4uNKFn6",
    "outputId": "059ca100-a218-44a6-e0ec-4cc59152d231"
   },
   "outputs": [],
   "source": [
    "# Histogram və bin sərhədlərini əldə etmək\n",
    "n, bins, patches = plt.hist(data, bins=20, edgecolor='black')\n",
    "\n",
    "bins"
   ]
  },
  {
   "cell_type": "code",
   "execution_count": null,
   "metadata": {
    "colab": {
     "base_uri": "https://localhost:8080/",
     "height": 101
    },
    "id": "zlzi-nP9KFlq",
    "outputId": "04873627-e416-4961-b55c-6dff74e0cbae"
   },
   "outputs": [],
   "source": [
    "df[df['xolesterol']>423]"
   ]
  },
  {
   "cell_type": "code",
   "execution_count": null,
   "metadata": {
    "colab": {
     "base_uri": "https://localhost:8080/",
     "height": 489
    },
    "id": "hYbmpr1MKFji",
    "outputId": "c4ef3087-da33-435d-aea8-739bab85c61e"
   },
   "outputs": [],
   "source": [
    "sns.histplot(x=df['xolesterol'] , hue=df['cinsiyyet'], palette=['brown','orange'])\n",
    "plt.xlabel('xolesterol deyerleri')\n",
    "plt.ylabel('insanlarin sayi')\n",
    "plt.title('Xolesterol deyerleri ucun histogram')"
   ]
  },
  {
   "cell_type": "code",
   "execution_count": null,
   "metadata": {
    "id": "a3n_edHfKFhS"
   },
   "outputs": [],
   "source": [
    "#netice cixara bilerik ki, yuksek xolesterol deyerleri qadinlarda daha coxdur kisilere nisbetde datasete esasen"
   ]
  },
  {
   "cell_type": "code",
   "execution_count": null,
   "metadata": {
    "colab": {
     "base_uri": "https://localhost:8080/",
     "height": 489
    },
    "id": "zimlS-aFgr8U",
    "outputId": "88683ca1-b5a5-4e87-a394-e6e948869481"
   },
   "outputs": [],
   "source": [
    "sns.histplot(x=df['xolesterol'] , hue=df['insan_urek_xestesidirmi'], palette=['brown','orange'])\n",
    "plt.xlabel('xolesterol deyerleri')\n",
    "plt.ylabel('insanlarin sayi')\n",
    "plt.title('Xolesterol deyerleri ucun histogram')"
   ]
  },
  {
   "cell_type": "code",
   "execution_count": null,
   "metadata": {
    "colab": {
     "base_uri": "https://localhost:8080/",
     "height": 241
    },
    "id": "I3Xp4JkFKFe6",
    "outputId": "d9a675f2-1b89-4df2-f137-d0a92b4932a1"
   },
   "outputs": [],
   "source": [
    "df['sine_agrisi'].value_counts()"
   ]
  },
  {
   "cell_type": "code",
   "execution_count": null,
   "metadata": {
    "colab": {
     "base_uri": "https://localhost:8080/",
     "height": 467
    },
    "id": "H8LR4Qx0KFci",
    "outputId": "0eb96a13-e82d-43cb-c095-6349984704b7"
   },
   "outputs": [],
   "source": [
    "crosstab = pd.crosstab(df['sine_agrisi'], df['insan_urek_xestesidirmi'])\n",
    "\n",
    "# Heatmap yaratmaq\n",
    "sns.heatmap(crosstab, annot=True, fmt=',.0f')"
   ]
  },
  {
   "cell_type": "code",
   "execution_count": null,
   "metadata": {
    "id": "mWNFhL4CKFaK"
   },
   "outputs": [],
   "source": [
    "#sinə agrisi olmayan insanlarda daha cox urek xesteliyi de olmur."
   ]
  },
  {
   "cell_type": "code",
   "execution_count": null,
   "metadata": {
    "colab": {
     "base_uri": "https://localhost:8080/",
     "height": 163
    },
    "id": "bvL4yJJUKFXz",
    "outputId": "76de7b12-b6e1-4123-f993-d61d2a4967eb"
   },
   "outputs": [],
   "source": [
    "df.head(3)"
   ]
  },
  {
   "cell_type": "code",
   "execution_count": null,
   "metadata": {
    "colab": {
     "base_uri": "https://localhost:8080/",
     "height": 467
    },
    "id": "RGn8v7TkKFSz",
    "outputId": "a5dc8918-c24f-4aa3-8764-5728c6a24ca0"
   },
   "outputs": [],
   "source": [
    "sns.histplot(x=df['istirahet_halinda_qan_tezyiqi'], hue=df['insan_urek_xestesidirmi'])"
   ]
  },
  {
   "cell_type": "code",
   "execution_count": null,
   "metadata": {
    "colab": {
     "base_uri": "https://localhost:8080/",
     "height": 163
    },
    "id": "hA-9ex0KKFOL",
    "outputId": "d5c01f7a-b5ca-439f-d79b-54b24d696f17"
   },
   "outputs": [],
   "source": [
    "df.head(3)"
   ]
  },
  {
   "cell_type": "code",
   "execution_count": null,
   "metadata": {
    "colab": {
     "base_uri": "https://localhost:8080/",
     "height": 178
    },
    "id": "SJ_-z9kHKE3R",
    "outputId": "6b7cea65-17fa-478e-83da-e6af1ca27b02"
   },
   "outputs": [],
   "source": [
    "df['acqar_qan_sekeri_120_ustudurmu'].value_counts()"
   ]
  },
  {
   "cell_type": "code",
   "execution_count": null,
   "metadata": {
    "colab": {
     "base_uri": "https://localhost:8080/",
     "height": 143
    },
    "id": "hmL0HFcBLAl6",
    "outputId": "bd7bebbb-336b-4d1f-ec02-e2d3e9013214"
   },
   "outputs": [],
   "source": [
    "cross_tab = pd.crosstab(df['acqar_qan_sekeri_120_ustudurmu'], df['insan_urek_xestesidirmi'])\n",
    "cross_tab"
   ]
  },
  {
   "cell_type": "code",
   "execution_count": null,
   "metadata": {
    "colab": {
     "base_uri": "https://localhost:8080/",
     "height": 469
    },
    "id": "cZ9vn-ZkNHau",
    "outputId": "3dbc8e19-5726-43c0-fd13-2e6b433e9bdd"
   },
   "outputs": [],
   "source": [
    "sns.heatmap(cross_tab, annot=True, fmt='d')"
   ]
  },
  {
   "cell_type": "code",
   "execution_count": null,
   "metadata": {
    "colab": {
     "base_uri": "https://localhost:8080/",
     "height": 163
    },
    "id": "fsP7uZVgNFqD",
    "outputId": "db0e22d3-982d-4671-ba0d-5efe3e4cbb31"
   },
   "outputs": [],
   "source": [
    "df.head(3)"
   ]
  },
  {
   "cell_type": "code",
   "execution_count": 20,
   "metadata": {
    "colab": {
     "base_uri": "https://localhost:8080/",
     "height": 467
    },
    "id": "8dxhSrrcNp8i",
    "outputId": "65543306-2fe6-4523-cf0c-f7a36c327ba8"
   },
   "outputs": [
    {
     "data": {
      "text/plain": [
       "<Axes: xlabel='1_deqiqedeki_max_doyuntu_sayi', ylabel='Count'>"
      ]
     },
     "execution_count": 20,
     "metadata": {},
     "output_type": "execute_result"
    },
    {
     "data": {
      "image/png": "[encoded data removed]",
      "text/plain": [
       "<Figure size 640x480 with 1 Axes>"
      ]
     },
     "metadata": {},
     "output_type": "display_data"
    }
   ],
   "source": [
    "sns.histplot(df['1_deqiqedeki_max_doyuntu_sayi']) # maksimal urek doyuntusu sayi 1 deqiqede"
   ]
  },
  {
   "cell_type": "code",
   "execution_count": 21,
   "metadata": {
    "colab": {
     "base_uri": "https://localhost:8080/",
     "height": 320
    },
    "id": "nL5he2-QNp6Z",
    "outputId": "7641223e-7400-4891-ce45-fd9475f9ec0d"
   },
   "outputs": [
    {
     "data": {
      "text/html": [
       "<div>\n",
       "<style scoped>\n",
       "    .dataframe tbody tr th:only-of-type {\n",
       "        vertical-align: middle;\n",
       "    }\n",
       "\n",
       "    .dataframe tbody tr th {\n",
       "        vertical-align: top;\n",
       "    }\n",
       "\n",
       "    .dataframe thead th {\n",
       "        text-align: right;\n",
       "    }\n",
       "</style>\n",
       "<table border=\"1\" class=\"dataframe\">\n",
       "  <thead>\n",
       "    <tr style=\"text-align: right;\">\n",
       "      <th></th>\n",
       "      <th>yas</th>\n",
       "      <th>cinsiyyet</th>\n",
       "      <th>sine_agrisi</th>\n",
       "      <th>istirahet_halinda_qan_tezyiqi</th>\n",
       "      <th>xolesterol</th>\n",
       "      <th>acqar_qan_sekeri_120_ustudurmu</th>\n",
       "      <th>ritm_pozgunlugu_varmi</th>\n",
       "      <th>1_deqiqedeki_max_doyuntu_sayi</th>\n",
       "      <th>fiziki_fealiyyetle_bagli_angina</th>\n",
       "      <th>oldpeak</th>\n",
       "      <th>slope</th>\n",
       "      <th>fluoroskopiya_zamani_gorunen_damarlarin_sayi</th>\n",
       "      <th>stres_testi_neticesi</th>\n",
       "      <th>insan_urek_xestesidirmi</th>\n",
       "    </tr>\n",
       "  </thead>\n",
       "  <tbody>\n",
       "    <tr>\n",
       "      <th>136</th>\n",
       "      <td>60</td>\n",
       "      <td>0</td>\n",
       "      <td>2</td>\n",
       "      <td>120</td>\n",
       "      <td>178</td>\n",
       "      <td>1</td>\n",
       "      <td>1</td>\n",
       "      <td>96</td>\n",
       "      <td>0</td>\n",
       "      <td>0.0</td>\n",
       "      <td>2</td>\n",
       "      <td>0</td>\n",
       "      <td>2</td>\n",
       "      <td>1</td>\n",
       "    </tr>\n",
       "    <tr>\n",
       "      <th>198</th>\n",
       "      <td>62</td>\n",
       "      <td>1</td>\n",
       "      <td>0</td>\n",
       "      <td>120</td>\n",
       "      <td>267</td>\n",
       "      <td>0</td>\n",
       "      <td>1</td>\n",
       "      <td>99</td>\n",
       "      <td>1</td>\n",
       "      <td>1.8</td>\n",
       "      <td>1</td>\n",
       "      <td>2</td>\n",
       "      <td>3</td>\n",
       "      <td>0</td>\n",
       "    </tr>\n",
       "    <tr>\n",
       "      <th>216</th>\n",
       "      <td>62</td>\n",
       "      <td>0</td>\n",
       "      <td>2</td>\n",
       "      <td>130</td>\n",
       "      <td>263</td>\n",
       "      <td>0</td>\n",
       "      <td>1</td>\n",
       "      <td>97</td>\n",
       "      <td>0</td>\n",
       "      <td>1.2</td>\n",
       "      <td>1</td>\n",
       "      <td>1</td>\n",
       "      <td>3</td>\n",
       "      <td>0</td>\n",
       "    </tr>\n",
       "    <tr>\n",
       "      <th>233</th>\n",
       "      <td>64</td>\n",
       "      <td>1</td>\n",
       "      <td>0</td>\n",
       "      <td>120</td>\n",
       "      <td>246</td>\n",
       "      <td>0</td>\n",
       "      <td>0</td>\n",
       "      <td>96</td>\n",
       "      <td>1</td>\n",
       "      <td>2.2</td>\n",
       "      <td>0</td>\n",
       "      <td>1</td>\n",
       "      <td>2</td>\n",
       "      <td>0</td>\n",
       "    </tr>\n",
       "    <tr>\n",
       "      <th>243</th>\n",
       "      <td>57</td>\n",
       "      <td>1</td>\n",
       "      <td>0</td>\n",
       "      <td>152</td>\n",
       "      <td>274</td>\n",
       "      <td>0</td>\n",
       "      <td>1</td>\n",
       "      <td>88</td>\n",
       "      <td>1</td>\n",
       "      <td>1.2</td>\n",
       "      <td>1</td>\n",
       "      <td>1</td>\n",
       "      <td>3</td>\n",
       "      <td>0</td>\n",
       "    </tr>\n",
       "    <tr>\n",
       "      <th>262</th>\n",
       "      <td>53</td>\n",
       "      <td>1</td>\n",
       "      <td>0</td>\n",
       "      <td>123</td>\n",
       "      <td>282</td>\n",
       "      <td>0</td>\n",
       "      <td>1</td>\n",
       "      <td>95</td>\n",
       "      <td>1</td>\n",
       "      <td>2.0</td>\n",
       "      <td>1</td>\n",
       "      <td>2</td>\n",
       "      <td>3</td>\n",
       "      <td>0</td>\n",
       "    </tr>\n",
       "    <tr>\n",
       "      <th>272</th>\n",
       "      <td>67</td>\n",
       "      <td>1</td>\n",
       "      <td>0</td>\n",
       "      <td>120</td>\n",
       "      <td>237</td>\n",
       "      <td>0</td>\n",
       "      <td>1</td>\n",
       "      <td>71</td>\n",
       "      <td>0</td>\n",
       "      <td>1.0</td>\n",
       "      <td>1</td>\n",
       "      <td>0</td>\n",
       "      <td>2</td>\n",
       "      <td>0</td>\n",
       "    </tr>\n",
       "    <tr>\n",
       "      <th>297</th>\n",
       "      <td>59</td>\n",
       "      <td>1</td>\n",
       "      <td>0</td>\n",
       "      <td>164</td>\n",
       "      <td>176</td>\n",
       "      <td>1</td>\n",
       "      <td>0</td>\n",
       "      <td>90</td>\n",
       "      <td>0</td>\n",
       "      <td>1.0</td>\n",
       "      <td>1</td>\n",
       "      <td>2</td>\n",
       "      <td>1</td>\n",
       "      <td>0</td>\n",
       "    </tr>\n",
       "  </tbody>\n",
       "</table>\n",
       "</div>"
      ],
      "text/plain": [
       "     yas  cinsiyyet  sine_agrisi  istirahet_halinda_qan_tezyiqi  xolesterol  \\\n",
       "136   60          0            2                            120         178   \n",
       "198   62          1            0                            120         267   \n",
       "216   62          0            2                            130         263   \n",
       "233   64          1            0                            120         246   \n",
       "243   57          1            0                            152         274   \n",
       "262   53          1            0                            123         282   \n",
       "272   67          1            0                            120         237   \n",
       "297   59          1            0                            164         176   \n",
       "\n",
       "     acqar_qan_sekeri_120_ustudurmu  ritm_pozgunlugu_varmi  \\\n",
       "136                               1                      1   \n",
       "198                               0                      1   \n",
       "216                               0                      1   \n",
       "233                               0                      0   \n",
       "243                               0                      1   \n",
       "262                               0                      1   \n",
       "272                               0                      1   \n",
       "297                               1                      0   \n",
       "\n",
       "     1_deqiqedeki_max_doyuntu_sayi  fiziki_fealiyyetle_bagli_angina  oldpeak  \\\n",
       "136                             96                                0      0.0   \n",
       "198                             99                                1      1.8   \n",
       "216                             97                                0      1.2   \n",
       "233                             96                                1      2.2   \n",
       "243                             88                                1      1.2   \n",
       "262                             95                                1      2.0   \n",
       "272                             71                                0      1.0   \n",
       "297                             90                                0      1.0   \n",
       "\n",
       "     slope  fluoroskopiya_zamani_gorunen_damarlarin_sayi  \\\n",
       "136      2                                             0   \n",
       "198      1                                             2   \n",
       "216      1                                             1   \n",
       "233      0                                             1   \n",
       "243      1                                             1   \n",
       "262      1                                             2   \n",
       "272      1                                             0   \n",
       "297      1                                             2   \n",
       "\n",
       "     stres_testi_neticesi  insan_urek_xestesidirmi  \n",
       "136                     2                        1  \n",
       "198                     3                        0  \n",
       "216                     3                        0  \n",
       "233                     2                        0  \n",
       "243                     3                        0  \n",
       "262                     3                        0  \n",
       "272                     2                        0  \n",
       "297                     1                        0  "
      ]
     },
     "execution_count": 21,
     "metadata": {},
     "output_type": "execute_result"
    }
   ],
   "source": [
    "df[df['1_deqiqedeki_max_doyuntu_sayi']<100]"
   ]
  },
  {
   "cell_type": "code",
   "execution_count": 22,
   "metadata": {
    "colab": {
     "base_uri": "https://localhost:8080/",
     "height": 634
    },
    "id": "IxhytcUHNp4K",
    "outputId": "d1edf71f-bd17-4654-b898-c6fc428f22dc"
   },
   "outputs": [
    {
     "data": {
      "text/html": [
       "<div>\n",
       "<style scoped>\n",
       "    .dataframe tbody tr th:only-of-type {\n",
       "        vertical-align: middle;\n",
       "    }\n",
       "\n",
       "    .dataframe tbody tr th {\n",
       "        vertical-align: top;\n",
       "    }\n",
       "\n",
       "    .dataframe thead th {\n",
       "        text-align: right;\n",
       "    }\n",
       "</style>\n",
       "<table border=\"1\" class=\"dataframe\">\n",
       "  <thead>\n",
       "    <tr style=\"text-align: right;\">\n",
       "      <th></th>\n",
       "      <th>yas</th>\n",
       "      <th>cinsiyyet</th>\n",
       "      <th>sine_agrisi</th>\n",
       "      <th>istirahet_halinda_qan_tezyiqi</th>\n",
       "      <th>xolesterol</th>\n",
       "      <th>acqar_qan_sekeri_120_ustudurmu</th>\n",
       "      <th>ritm_pozgunlugu_varmi</th>\n",
       "      <th>1_deqiqedeki_max_doyuntu_sayi</th>\n",
       "      <th>fiziki_fealiyyetle_bagli_angina</th>\n",
       "      <th>oldpeak</th>\n",
       "      <th>slope</th>\n",
       "      <th>fluoroskopiya_zamani_gorunen_damarlarin_sayi</th>\n",
       "      <th>stres_testi_neticesi</th>\n",
       "      <th>insan_urek_xestesidirmi</th>\n",
       "    </tr>\n",
       "  </thead>\n",
       "  <tbody>\n",
       "    <tr>\n",
       "      <th>1</th>\n",
       "      <td>37</td>\n",
       "      <td>1</td>\n",
       "      <td>2</td>\n",
       "      <td>130</td>\n",
       "      <td>250</td>\n",
       "      <td>0</td>\n",
       "      <td>1</td>\n",
       "      <td>187</td>\n",
       "      <td>0</td>\n",
       "      <td>3.5</td>\n",
       "      <td>0</td>\n",
       "      <td>0</td>\n",
       "      <td>2</td>\n",
       "      <td>1</td>\n",
       "    </tr>\n",
       "    <tr>\n",
       "      <th>32</th>\n",
       "      <td>44</td>\n",
       "      <td>1</td>\n",
       "      <td>1</td>\n",
       "      <td>130</td>\n",
       "      <td>219</td>\n",
       "      <td>0</td>\n",
       "      <td>0</td>\n",
       "      <td>188</td>\n",
       "      <td>0</td>\n",
       "      <td>0.0</td>\n",
       "      <td>2</td>\n",
       "      <td>0</td>\n",
       "      <td>2</td>\n",
       "      <td>1</td>\n",
       "    </tr>\n",
       "    <tr>\n",
       "      <th>44</th>\n",
       "      <td>39</td>\n",
       "      <td>1</td>\n",
       "      <td>2</td>\n",
       "      <td>140</td>\n",
       "      <td>321</td>\n",
       "      <td>0</td>\n",
       "      <td>0</td>\n",
       "      <td>182</td>\n",
       "      <td>0</td>\n",
       "      <td>0.0</td>\n",
       "      <td>2</td>\n",
       "      <td>0</td>\n",
       "      <td>2</td>\n",
       "      <td>1</td>\n",
       "    </tr>\n",
       "    <tr>\n",
       "      <th>56</th>\n",
       "      <td>48</td>\n",
       "      <td>1</td>\n",
       "      <td>0</td>\n",
       "      <td>122</td>\n",
       "      <td>222</td>\n",
       "      <td>0</td>\n",
       "      <td>0</td>\n",
       "      <td>186</td>\n",
       "      <td>0</td>\n",
       "      <td>0.0</td>\n",
       "      <td>2</td>\n",
       "      <td>0</td>\n",
       "      <td>2</td>\n",
       "      <td>1</td>\n",
       "    </tr>\n",
       "    <tr>\n",
       "      <th>57</th>\n",
       "      <td>45</td>\n",
       "      <td>1</td>\n",
       "      <td>0</td>\n",
       "      <td>115</td>\n",
       "      <td>260</td>\n",
       "      <td>0</td>\n",
       "      <td>0</td>\n",
       "      <td>185</td>\n",
       "      <td>0</td>\n",
       "      <td>0.0</td>\n",
       "      <td>2</td>\n",
       "      <td>0</td>\n",
       "      <td>2</td>\n",
       "      <td>1</td>\n",
       "    </tr>\n",
       "    <tr>\n",
       "      <th>62</th>\n",
       "      <td>52</td>\n",
       "      <td>1</td>\n",
       "      <td>3</td>\n",
       "      <td>118</td>\n",
       "      <td>186</td>\n",
       "      <td>0</td>\n",
       "      <td>0</td>\n",
       "      <td>190</td>\n",
       "      <td>0</td>\n",
       "      <td>0.0</td>\n",
       "      <td>1</td>\n",
       "      <td>0</td>\n",
       "      <td>1</td>\n",
       "      <td>1</td>\n",
       "    </tr>\n",
       "    <tr>\n",
       "      <th>65</th>\n",
       "      <td>35</td>\n",
       "      <td>0</td>\n",
       "      <td>0</td>\n",
       "      <td>138</td>\n",
       "      <td>183</td>\n",
       "      <td>0</td>\n",
       "      <td>1</td>\n",
       "      <td>182</td>\n",
       "      <td>0</td>\n",
       "      <td>1.4</td>\n",
       "      <td>2</td>\n",
       "      <td>0</td>\n",
       "      <td>2</td>\n",
       "      <td>1</td>\n",
       "    </tr>\n",
       "    <tr>\n",
       "      <th>72</th>\n",
       "      <td>29</td>\n",
       "      <td>1</td>\n",
       "      <td>1</td>\n",
       "      <td>130</td>\n",
       "      <td>204</td>\n",
       "      <td>0</td>\n",
       "      <td>0</td>\n",
       "      <td>202</td>\n",
       "      <td>0</td>\n",
       "      <td>0.0</td>\n",
       "      <td>2</td>\n",
       "      <td>0</td>\n",
       "      <td>2</td>\n",
       "      <td>1</td>\n",
       "    </tr>\n",
       "    <tr>\n",
       "      <th>73</th>\n",
       "      <td>51</td>\n",
       "      <td>1</td>\n",
       "      <td>0</td>\n",
       "      <td>140</td>\n",
       "      <td>261</td>\n",
       "      <td>0</td>\n",
       "      <td>0</td>\n",
       "      <td>186</td>\n",
       "      <td>1</td>\n",
       "      <td>0.0</td>\n",
       "      <td>2</td>\n",
       "      <td>0</td>\n",
       "      <td>2</td>\n",
       "      <td>1</td>\n",
       "    </tr>\n",
       "    <tr>\n",
       "      <th>78</th>\n",
       "      <td>52</td>\n",
       "      <td>1</td>\n",
       "      <td>1</td>\n",
       "      <td>128</td>\n",
       "      <td>205</td>\n",
       "      <td>1</td>\n",
       "      <td>1</td>\n",
       "      <td>184</td>\n",
       "      <td>0</td>\n",
       "      <td>0.0</td>\n",
       "      <td>2</td>\n",
       "      <td>0</td>\n",
       "      <td>2</td>\n",
       "      <td>1</td>\n",
       "    </tr>\n",
       "    <tr>\n",
       "      <th>103</th>\n",
       "      <td>42</td>\n",
       "      <td>1</td>\n",
       "      <td>2</td>\n",
       "      <td>120</td>\n",
       "      <td>240</td>\n",
       "      <td>1</td>\n",
       "      <td>1</td>\n",
       "      <td>194</td>\n",
       "      <td>0</td>\n",
       "      <td>0.8</td>\n",
       "      <td>0</td>\n",
       "      <td>0</td>\n",
       "      <td>3</td>\n",
       "      <td>1</td>\n",
       "    </tr>\n",
       "    <tr>\n",
       "      <th>121</th>\n",
       "      <td>59</td>\n",
       "      <td>1</td>\n",
       "      <td>0</td>\n",
       "      <td>138</td>\n",
       "      <td>271</td>\n",
       "      <td>0</td>\n",
       "      <td>0</td>\n",
       "      <td>182</td>\n",
       "      <td>0</td>\n",
       "      <td>0.0</td>\n",
       "      <td>2</td>\n",
       "      <td>0</td>\n",
       "      <td>2</td>\n",
       "      <td>1</td>\n",
       "    </tr>\n",
       "    <tr>\n",
       "      <th>125</th>\n",
       "      <td>34</td>\n",
       "      <td>0</td>\n",
       "      <td>1</td>\n",
       "      <td>118</td>\n",
       "      <td>210</td>\n",
       "      <td>0</td>\n",
       "      <td>1</td>\n",
       "      <td>192</td>\n",
       "      <td>0</td>\n",
       "      <td>0.7</td>\n",
       "      <td>2</td>\n",
       "      <td>0</td>\n",
       "      <td>2</td>\n",
       "      <td>1</td>\n",
       "    </tr>\n",
       "    <tr>\n",
       "      <th>141</th>\n",
       "      <td>43</td>\n",
       "      <td>1</td>\n",
       "      <td>0</td>\n",
       "      <td>115</td>\n",
       "      <td>303</td>\n",
       "      <td>0</td>\n",
       "      <td>1</td>\n",
       "      <td>181</td>\n",
       "      <td>0</td>\n",
       "      <td>1.2</td>\n",
       "      <td>1</td>\n",
       "      <td>0</td>\n",
       "      <td>2</td>\n",
       "      <td>1</td>\n",
       "    </tr>\n",
       "    <tr>\n",
       "      <th>162</th>\n",
       "      <td>41</td>\n",
       "      <td>1</td>\n",
       "      <td>1</td>\n",
       "      <td>120</td>\n",
       "      <td>157</td>\n",
       "      <td>0</td>\n",
       "      <td>1</td>\n",
       "      <td>182</td>\n",
       "      <td>0</td>\n",
       "      <td>0.0</td>\n",
       "      <td>2</td>\n",
       "      <td>0</td>\n",
       "      <td>2</td>\n",
       "      <td>1</td>\n",
       "    </tr>\n",
       "    <tr>\n",
       "      <th>248</th>\n",
       "      <td>54</td>\n",
       "      <td>1</td>\n",
       "      <td>1</td>\n",
       "      <td>192</td>\n",
       "      <td>283</td>\n",
       "      <td>0</td>\n",
       "      <td>0</td>\n",
       "      <td>195</td>\n",
       "      <td>0</td>\n",
       "      <td>0.0</td>\n",
       "      <td>2</td>\n",
       "      <td>1</td>\n",
       "      <td>3</td>\n",
       "      <td>0</td>\n",
       "    </tr>\n",
       "    <tr>\n",
       "      <th>259</th>\n",
       "      <td>38</td>\n",
       "      <td>1</td>\n",
       "      <td>3</td>\n",
       "      <td>120</td>\n",
       "      <td>231</td>\n",
       "      <td>0</td>\n",
       "      <td>1</td>\n",
       "      <td>182</td>\n",
       "      <td>1</td>\n",
       "      <td>3.8</td>\n",
       "      <td>1</td>\n",
       "      <td>0</td>\n",
       "      <td>3</td>\n",
       "      <td>0</td>\n",
       "    </tr>\n",
       "    <tr>\n",
       "      <th>283</th>\n",
       "      <td>40</td>\n",
       "      <td>1</td>\n",
       "      <td>0</td>\n",
       "      <td>152</td>\n",
       "      <td>223</td>\n",
       "      <td>0</td>\n",
       "      <td>1</td>\n",
       "      <td>181</td>\n",
       "      <td>0</td>\n",
       "      <td>0.0</td>\n",
       "      <td>2</td>\n",
       "      <td>0</td>\n",
       "      <td>3</td>\n",
       "      <td>0</td>\n",
       "    </tr>\n",
       "  </tbody>\n",
       "</table>\n",
       "</div>"
      ],
      "text/plain": [
       "     yas  cinsiyyet  sine_agrisi  istirahet_halinda_qan_tezyiqi  xolesterol  \\\n",
       "1     37          1            2                            130         250   \n",
       "32    44          1            1                            130         219   \n",
       "44    39          1            2                            140         321   \n",
       "56    48          1            0                            122         222   \n",
       "57    45          1            0                            115         260   \n",
       "62    52          1            3                            118         186   \n",
       "65    35          0            0                            138         183   \n",
       "72    29          1            1                            130         204   \n",
       "73    51          1            0                            140         261   \n",
       "78    52          1            1                            128         205   \n",
       "103   42          1            2                            120         240   \n",
       "121   59          1            0                            138         271   \n",
       "125   34          0            1                            118         210   \n",
       "141   43          1            0                            115         303   \n",
       "162   41          1            1                            120         157   \n",
       "248   54          1            1                            192         283   \n",
       "259   38          1            3                            120         231   \n",
       "283   40          1            0                            152         223   \n",
       "\n",
       "     acqar_qan_sekeri_120_ustudurmu  ritm_pozgunlugu_varmi  \\\n",
       "1                                 0                      1   \n",
       "32                                0                      0   \n",
       "44                                0                      0   \n",
       "56                                0                      0   \n",
       "57                                0                      0   \n",
       "62                                0                      0   \n",
       "65                                0                      1   \n",
       "72                                0                      0   \n",
       "73                                0                      0   \n",
       "78                                1                      1   \n",
       "103                               1                      1   \n",
       "121                               0                      0   \n",
       "125                               0                      1   \n",
       "141                               0                      1   \n",
       "162                               0                      1   \n",
       "248                               0                      0   \n",
       "259                               0                      1   \n",
       "283                               0                      1   \n",
       "\n",
       "     1_deqiqedeki_max_doyuntu_sayi  fiziki_fealiyyetle_bagli_angina  oldpeak  \\\n",
       "1                              187                                0      3.5   \n",
       "32                             188                                0      0.0   \n",
       "44                             182                                0      0.0   \n",
       "56                             186                                0      0.0   \n",
       "57                             185                                0      0.0   \n",
       "62                             190                                0      0.0   \n",
       "65                             182                                0      1.4   \n",
       "72                             202                                0      0.0   \n",
       "73                             186                                1      0.0   \n",
       "78                             184                                0      0.0   \n",
       "103                            194                                0      0.8   \n",
       "121                            182                                0      0.0   \n",
       "125                            192                                0      0.7   \n",
       "141                            181                                0      1.2   \n",
       "162                            182                                0      0.0   \n",
       "248                            195                                0      0.0   \n",
       "259                            182                                1      3.8   \n",
       "283                            181                                0      0.0   \n",
       "\n",
       "     slope  fluoroskopiya_zamani_gorunen_damarlarin_sayi  \\\n",
       "1        0                                             0   \n",
       "32       2                                             0   \n",
       "44       2                                             0   \n",
       "56       2                                             0   \n",
       "57       2                                             0   \n",
       "62       1                                             0   \n",
       "65       2                                             0   \n",
       "72       2                                             0   \n",
       "73       2                                             0   \n",
       "78       2                                             0   \n",
       "103      0                                             0   \n",
       "121      2                                             0   \n",
       "125      2                                             0   \n",
       "141      1                                             0   \n",
       "162      2                                             0   \n",
       "248      2                                             1   \n",
       "259      1                                             0   \n",
       "283      2                                             0   \n",
       "\n",
       "     stres_testi_neticesi  insan_urek_xestesidirmi  \n",
       "1                       2                        1  \n",
       "32                      2                        1  \n",
       "44                      2                        1  \n",
       "56                      2                        1  \n",
       "57                      2                        1  \n",
       "62                      1                        1  \n",
       "65                      2                        1  \n",
       "72                      2                        1  \n",
       "73                      2                        1  \n",
       "78                      2                        1  \n",
       "103                     3                        1  \n",
       "121                     2                        1  \n",
       "125                     2                        1  \n",
       "141                     2                        1  \n",
       "162                     2                        1  \n",
       "248                     3                        0  \n",
       "259                     3                        0  \n",
       "283                     3                        0  "
      ]
     },
     "execution_count": 22,
     "metadata": {},
     "output_type": "execute_result"
    }
   ],
   "source": [
    "df[df['1_deqiqedeki_max_doyuntu_sayi']>180]"
   ]
  },
  {
   "cell_type": "code",
   "execution_count": 23,
   "metadata": {
    "colab": {
     "base_uri": "https://localhost:8080/",
     "height": 648
    },
    "id": "etA4imwINpq5",
    "outputId": "01b80e97-7eca-4d02-e60f-f8502610d178"
   },
   "outputs": [
    {
     "data": {
      "text/plain": [
       "1      37\n",
       "32     44\n",
       "44     39\n",
       "56     48\n",
       "57     45\n",
       "62     52\n",
       "65     35\n",
       "72     29\n",
       "73     51\n",
       "78     52\n",
       "103    42\n",
       "121    59\n",
       "125    34\n",
       "141    43\n",
       "162    41\n",
       "248    54\n",
       "259    38\n",
       "283    40\n",
       "Name: yas, dtype: int64"
      ]
     },
     "execution_count": 23,
     "metadata": {},
     "output_type": "execute_result"
    }
   ],
   "source": [
    "df[df['1_deqiqedeki_max_doyuntu_sayi']>180]['yas']"
   ]
  },
  {
   "cell_type": "code",
   "execution_count": 24,
   "metadata": {
    "colab": {
     "base_uri": "https://localhost:8080/"
    },
    "id": "APccFBaiNpoq",
    "outputId": "17e3fb19-6407-40cb-b6e1-4ab555ed68ec"
   },
   "outputs": [
    {
     "data": {
      "text/plain": [
       "59"
      ]
     },
     "execution_count": 24,
     "metadata": {},
     "output_type": "execute_result"
    }
   ],
   "source": [
    "df[df['1_deqiqedeki_max_doyuntu_sayi']>180]['yas'].max()"
   ]
  },
  {
   "cell_type": "code",
   "execution_count": 25,
   "metadata": {
    "colab": {
     "base_uri": "https://localhost:8080/",
     "height": 472
    },
    "id": "yCG_BrReNpfD",
    "outputId": "b605529d-96c4-4d22-ae3b-1ce8905d89c2"
   },
   "outputs": [
    {
     "data": {
      "image/png": "[encoded data removed]",
      "text/plain": [
       "<Figure size 640x480 with 1 Axes>"
      ]
     },
     "metadata": {},
     "output_type": "display_data"
    }
   ],
   "source": [
    "sns.scatterplot(x=df['1_deqiqedeki_max_doyuntu_sayi'], y=df['yas'], hue=df['insan_urek_xestesidirmi'], palette=['green','red'])\n",
    "plt.title('Maksimal urek doyuntusunun target ve yas ile elaqesi')\n",
    "plt.show()"
   ]
  },
  {
   "cell_type": "code",
   "execution_count": 26,
   "metadata": {
    "colab": {
     "base_uri": "https://localhost:8080/",
     "height": 472
    },
    "id": "VdQg4z7GSoBo",
    "outputId": "c818ead2-485f-452b-de1a-1624b55e35bd"
   },
   "outputs": [
    {
     "data": {
      "image/png": "[encoded data removed]",
      "text/plain": [
       "<Figure size 640x480 with 1 Axes>"
      ]
     },
     "metadata": {},
     "output_type": "display_data"
    }
   ],
   "source": [
    "sns.scatterplot(x=df['1_deqiqedeki_max_doyuntu_sayi'], y=df['yas'], hue=df['insan_urek_xestesidirmi'], palette=['green','red'])\n",
    "plt.xlabel('insanin maksimal urek doyuntusu sayi(1 deqiqede)')\n",
    "plt.ylabel('yas')\n",
    "plt.title('Maksimal urek doyuntusunun ve yasin target ile elaqesi')\n",
    "plt.plot([110,200],[42,67], color='black')\n",
    "plt.show()"
   ]
  },
  {
   "cell_type": "code",
   "execution_count": 27,
   "metadata": {
    "colab": {
     "base_uri": "https://localhost:8080/",
     "height": 1000
    },
    "id": "sEyz_nTLLDHw",
    "outputId": "a322dc81-8a9e-46cb-b351-e9093c6945aa"
   },
   "outputs": [
    {
     "data": {
      "image/png": "[encoded data removed]",
      "text/plain": [
       "<Figure size 1200x1200 with 2 Axes>"
      ]
     },
     "metadata": {},
     "output_type": "display_data"
    }
   ],
   "source": [
    "plt.figure(figsize=(12,12))\n",
    "sns.heatmap(df.corr(), annot=True, cmap='coolwarm' )\n",
    "plt.title('Correlation matrix')\n",
    "plt.show()"
   ]
  },
  {
   "cell_type": "code",
   "execution_count": 28,
   "metadata": {
    "colab": {
     "base_uri": "https://localhost:8080/",
     "height": 443
    },
    "id": "2_aj0upkVrSl",
    "outputId": "62860dfd-a863-46a9-a63c-14b39494462e"
   },
   "outputs": [
    {
     "data": {
      "text/html": [
       "<div>\n",
       "<style scoped>\n",
       "    .dataframe tbody tr th:only-of-type {\n",
       "        vertical-align: middle;\n",
       "    }\n",
       "\n",
       "    .dataframe tbody tr th {\n",
       "        vertical-align: top;\n",
       "    }\n",
       "\n",
       "    .dataframe thead th {\n",
       "        text-align: right;\n",
       "    }\n",
       "</style>\n",
       "<table border=\"1\" class=\"dataframe\">\n",
       "  <thead>\n",
       "    <tr style=\"text-align: right;\">\n",
       "      <th></th>\n",
       "      <th>yas</th>\n",
       "      <th>cinsiyyet</th>\n",
       "      <th>sine_agrisi</th>\n",
       "      <th>istirahet_halinda_qan_tezyiqi</th>\n",
       "      <th>xolesterol</th>\n",
       "      <th>acqar_qan_sekeri_120_ustudurmu</th>\n",
       "      <th>ritm_pozgunlugu_varmi</th>\n",
       "      <th>1_deqiqedeki_max_doyuntu_sayi</th>\n",
       "      <th>fiziki_fealiyyetle_bagli_angina</th>\n",
       "      <th>oldpeak</th>\n",
       "      <th>slope</th>\n",
       "      <th>fluoroskopiya_zamani_gorunen_damarlarin_sayi</th>\n",
       "      <th>stres_testi_neticesi</th>\n",
       "      <th>insan_urek_xestesidirmi</th>\n",
       "    </tr>\n",
       "  </thead>\n",
       "  <tbody>\n",
       "    <tr>\n",
       "      <th>0</th>\n",
       "      <td>63</td>\n",
       "      <td>1</td>\n",
       "      <td>3</td>\n",
       "      <td>145</td>\n",
       "      <td>233</td>\n",
       "      <td>1</td>\n",
       "      <td>0</td>\n",
       "      <td>150</td>\n",
       "      <td>0</td>\n",
       "      <td>2.3</td>\n",
       "      <td>0</td>\n",
       "      <td>0</td>\n",
       "      <td>1</td>\n",
       "      <td>1</td>\n",
       "    </tr>\n",
       "    <tr>\n",
       "      <th>1</th>\n",
       "      <td>37</td>\n",
       "      <td>1</td>\n",
       "      <td>2</td>\n",
       "      <td>130</td>\n",
       "      <td>250</td>\n",
       "      <td>0</td>\n",
       "      <td>1</td>\n",
       "      <td>187</td>\n",
       "      <td>0</td>\n",
       "      <td>3.5</td>\n",
       "      <td>0</td>\n",
       "      <td>0</td>\n",
       "      <td>2</td>\n",
       "      <td>1</td>\n",
       "    </tr>\n",
       "    <tr>\n",
       "      <th>2</th>\n",
       "      <td>41</td>\n",
       "      <td>0</td>\n",
       "      <td>1</td>\n",
       "      <td>130</td>\n",
       "      <td>204</td>\n",
       "      <td>0</td>\n",
       "      <td>0</td>\n",
       "      <td>172</td>\n",
       "      <td>0</td>\n",
       "      <td>1.4</td>\n",
       "      <td>2</td>\n",
       "      <td>0</td>\n",
       "      <td>2</td>\n",
       "      <td>1</td>\n",
       "    </tr>\n",
       "    <tr>\n",
       "      <th>3</th>\n",
       "      <td>56</td>\n",
       "      <td>1</td>\n",
       "      <td>1</td>\n",
       "      <td>120</td>\n",
       "      <td>236</td>\n",
       "      <td>0</td>\n",
       "      <td>1</td>\n",
       "      <td>178</td>\n",
       "      <td>0</td>\n",
       "      <td>0.8</td>\n",
       "      <td>2</td>\n",
       "      <td>0</td>\n",
       "      <td>2</td>\n",
       "      <td>1</td>\n",
       "    </tr>\n",
       "    <tr>\n",
       "      <th>4</th>\n",
       "      <td>57</td>\n",
       "      <td>0</td>\n",
       "      <td>0</td>\n",
       "      <td>120</td>\n",
       "      <td>354</td>\n",
       "      <td>0</td>\n",
       "      <td>1</td>\n",
       "      <td>163</td>\n",
       "      <td>1</td>\n",
       "      <td>0.6</td>\n",
       "      <td>2</td>\n",
       "      <td>0</td>\n",
       "      <td>2</td>\n",
       "      <td>1</td>\n",
       "    </tr>\n",
       "    <tr>\n",
       "      <th>...</th>\n",
       "      <td>...</td>\n",
       "      <td>...</td>\n",
       "      <td>...</td>\n",
       "      <td>...</td>\n",
       "      <td>...</td>\n",
       "      <td>...</td>\n",
       "      <td>...</td>\n",
       "      <td>...</td>\n",
       "      <td>...</td>\n",
       "      <td>...</td>\n",
       "      <td>...</td>\n",
       "      <td>...</td>\n",
       "      <td>...</td>\n",
       "      <td>...</td>\n",
       "    </tr>\n",
       "    <tr>\n",
       "      <th>298</th>\n",
       "      <td>57</td>\n",
       "      <td>0</td>\n",
       "      <td>0</td>\n",
       "      <td>140</td>\n",
       "      <td>241</td>\n",
       "      <td>0</td>\n",
       "      <td>1</td>\n",
       "      <td>123</td>\n",
       "      <td>1</td>\n",
       "      <td>0.2</td>\n",
       "      <td>1</td>\n",
       "      <td>0</td>\n",
       "      <td>3</td>\n",
       "      <td>0</td>\n",
       "    </tr>\n",
       "    <tr>\n",
       "      <th>299</th>\n",
       "      <td>45</td>\n",
       "      <td>1</td>\n",
       "      <td>3</td>\n",
       "      <td>110</td>\n",
       "      <td>264</td>\n",
       "      <td>0</td>\n",
       "      <td>1</td>\n",
       "      <td>132</td>\n",
       "      <td>0</td>\n",
       "      <td>1.2</td>\n",
       "      <td>1</td>\n",
       "      <td>0</td>\n",
       "      <td>3</td>\n",
       "      <td>0</td>\n",
       "    </tr>\n",
       "    <tr>\n",
       "      <th>300</th>\n",
       "      <td>68</td>\n",
       "      <td>1</td>\n",
       "      <td>0</td>\n",
       "      <td>144</td>\n",
       "      <td>193</td>\n",
       "      <td>1</td>\n",
       "      <td>1</td>\n",
       "      <td>141</td>\n",
       "      <td>0</td>\n",
       "      <td>3.4</td>\n",
       "      <td>1</td>\n",
       "      <td>2</td>\n",
       "      <td>3</td>\n",
       "      <td>0</td>\n",
       "    </tr>\n",
       "    <tr>\n",
       "      <th>301</th>\n",
       "      <td>57</td>\n",
       "      <td>1</td>\n",
       "      <td>0</td>\n",
       "      <td>130</td>\n",
       "      <td>131</td>\n",
       "      <td>0</td>\n",
       "      <td>1</td>\n",
       "      <td>115</td>\n",
       "      <td>1</td>\n",
       "      <td>1.2</td>\n",
       "      <td>1</td>\n",
       "      <td>1</td>\n",
       "      <td>3</td>\n",
       "      <td>0</td>\n",
       "    </tr>\n",
       "    <tr>\n",
       "      <th>302</th>\n",
       "      <td>57</td>\n",
       "      <td>0</td>\n",
       "      <td>1</td>\n",
       "      <td>130</td>\n",
       "      <td>236</td>\n",
       "      <td>0</td>\n",
       "      <td>0</td>\n",
       "      <td>174</td>\n",
       "      <td>0</td>\n",
       "      <td>0.0</td>\n",
       "      <td>1</td>\n",
       "      <td>1</td>\n",
       "      <td>2</td>\n",
       "      <td>0</td>\n",
       "    </tr>\n",
       "  </tbody>\n",
       "</table>\n",
       "<p>302 rows × 14 columns</p>\n",
       "</div>"
      ],
      "text/plain": [
       "     yas  cinsiyyet  sine_agrisi  istirahet_halinda_qan_tezyiqi  xolesterol  \\\n",
       "0     63          1            3                            145         233   \n",
       "1     37          1            2                            130         250   \n",
       "2     41          0            1                            130         204   \n",
       "3     56          1            1                            120         236   \n",
       "4     57          0            0                            120         354   \n",
       "..   ...        ...          ...                            ...         ...   \n",
       "298   57          0            0                            140         241   \n",
       "299   45          1            3                            110         264   \n",
       "300   68          1            0                            144         193   \n",
       "301   57          1            0                            130         131   \n",
       "302   57          0            1                            130         236   \n",
       "\n",
       "     acqar_qan_sekeri_120_ustudurmu  ritm_pozgunlugu_varmi  \\\n",
       "0                                 1                      0   \n",
       "1                                 0                      1   \n",
       "2                                 0                      0   \n",
       "3                                 0                      1   \n",
       "4                                 0                      1   \n",
       "..                              ...                    ...   \n",
       "298                               0                      1   \n",
       "299                               0                      1   \n",
       "300                               1                      1   \n",
       "301                               0                      1   \n",
       "302                               0                      0   \n",
       "\n",
       "     1_deqiqedeki_max_doyuntu_sayi  fiziki_fealiyyetle_bagli_angina  oldpeak  \\\n",
       "0                              150                                0      2.3   \n",
       "1                              187                                0      3.5   \n",
       "2                              172                                0      1.4   \n",
       "3                              178                                0      0.8   \n",
       "4                              163                                1      0.6   \n",
       "..                             ...                              ...      ...   \n",
       "298                            123                                1      0.2   \n",
       "299                            132                                0      1.2   \n",
       "300                            141                                0      3.4   \n",
       "301                            115                                1      1.2   \n",
       "302                            174                                0      0.0   \n",
       "\n",
       "     slope  fluoroskopiya_zamani_gorunen_damarlarin_sayi  \\\n",
       "0        0                                             0   \n",
       "1        0                                             0   \n",
       "2        2                                             0   \n",
       "3        2                                             0   \n",
       "4        2                                             0   \n",
       "..     ...                                           ...   \n",
       "298      1                                             0   \n",
       "299      1                                             0   \n",
       "300      1                                             2   \n",
       "301      1                                             1   \n",
       "302      1                                             1   \n",
       "\n",
       "     stres_testi_neticesi  insan_urek_xestesidirmi  \n",
       "0                       1                        1  \n",
       "1                       2                        1  \n",
       "2                       2                        1  \n",
       "3                       2                        1  \n",
       "4                       2                        1  \n",
       "..                    ...                      ...  \n",
       "298                     3                        0  \n",
       "299                     3                        0  \n",
       "300                     3                        0  \n",
       "301                     3                        0  \n",
       "302                     2                        0  \n",
       "\n",
       "[302 rows x 14 columns]"
      ]
     },
     "execution_count": 28,
     "metadata": {},
     "output_type": "execute_result"
    }
   ],
   "source": [
    "df"
   ]
  },
  {
   "cell_type": "markdown",
   "metadata": {},
   "source": [
    "## Data Preprocessing"
   ]
  },
  {
   "cell_type": "code",
   "execution_count": 29,
   "metadata": {
    "id": "gJtYBL0mf_15"
   },
   "outputs": [],
   "source": [
    "x=df.drop('insan_urek_xestesidirmi',axis=1)\n",
    "y=df['insan_urek_xestesidirmi']"
   ]
  },
  {
   "cell_type": "code",
   "execution_count": 30,
   "metadata": {
    "id": "7-2cgBZggVGi"
   },
   "outputs": [],
   "source": [
    "from sklearn.model_selection import train_test_split"
   ]
  },
  {
   "cell_type": "code",
   "execution_count": 31,
   "metadata": {
    "id": "dgOKsYjWgO_J"
   },
   "outputs": [],
   "source": [
    "x_train, x_test, y_train, y_test= train_test_split(x,y,train_size=0.7, random_state=101)"
   ]
  },
  {
   "cell_type": "code",
   "execution_count": 32,
   "metadata": {
    "id": "P8depLV_fzTg"
   },
   "outputs": [],
   "source": [
    "from sklearn.preprocessing import MinMaxScaler"
   ]
  },
  {
   "cell_type": "code",
   "execution_count": 33,
   "metadata": {
    "id": "hSqw_me6f8z0"
   },
   "outputs": [],
   "source": [
    "scaler=MinMaxScaler()\n",
    "x_train_scaled= scaler.fit_transform(x_train)\n",
    "x_test_scaled= scaler.transform(x_test)"
   ]
  },
  {
   "cell_type": "markdown",
   "metadata": {},
   "source": [
    "## Model building\n"
   ]
  },
  {
   "cell_type": "code",
   "execution_count": 34,
   "metadata": {
    "id": "v7hAGpybgj00"
   },
   "outputs": [],
   "source": [
    "from sklearn.linear_model import LogisticRegression\n",
    "from sklearn.tree import DecisionTreeClassifier\n",
    "from sklearn.ensemble import RandomForestClassifier\n",
    "from sklearn.neighbors import KNeighborsClassifier\n",
    "from sklearn.naive_bayes import GaussianNB\n",
    "from sklearn.svm import SVC\n",
    "\n",
    "from sklearn.metrics import classification_report,confusion_matrix"
   ]
  },
  {
   "cell_type": "code",
   "execution_count": 35,
   "metadata": {
    "id": "aNKMSS1dIJk1"
   },
   "outputs": [],
   "source": [
    "def modeli_qur_ve_overfit_yoxla(class_parametri_ile):\n",
    "  \n",
    "  model=class_parametri_ile\n",
    "  model.fit(x_train_scaled, y_train)\n",
    "  \n",
    "  y_predict_test=model.predict(x_test_scaled)\n",
    "  print(classification_report(y_test, y_predict_test))\n",
    "  \n",
    "  y_predict_train=model.predict(x_train_scaled)\n",
    "  print(classification_report(y_train, y_predict_train))"
   ]
  },
  {
   "cell_type": "markdown",
   "metadata": {},
   "source": [
    "# Logistic Regression"
   ]
  },
  {
   "cell_type": "code",
   "execution_count": 36,
   "metadata": {
    "colab": {
     "base_uri": "https://localhost:8080/"
    },
    "id": "op0EoMohIlFx",
    "outputId": "0bea2149-e694-47b8-b8bb-78d6b0c6e0d2"
   },
   "outputs": [
    {
     "name": "stdout",
     "output_type": "stream",
     "text": [
      "              precision    recall  f1-score   support\n",
      "\n",
      "           0       0.91      0.70      0.79        43\n",
      "           1       0.78      0.94      0.85        48\n",
      "\n",
      "    accuracy                           0.82        91\n",
      "   macro avg       0.84      0.82      0.82        91\n",
      "weighted avg       0.84      0.82      0.82        91\n",
      "\n",
      "              precision    recall  f1-score   support\n",
      "\n",
      "           0       0.85      0.74      0.79        95\n",
      "           1       0.81      0.90      0.85       116\n",
      "\n",
      "    accuracy                           0.82       211\n",
      "   macro avg       0.83      0.82      0.82       211\n",
      "weighted avg       0.83      0.82      0.82       211\n",
      "\n"
     ]
    }
   ],
   "source": [
    "modeli_qur_ve_overfit_yoxla(LogisticRegression(penalty='l2', C=0.1, solver='newton-cg', random_state=13))"
   ]
  },
  {
   "cell_type": "markdown",
   "metadata": {},
   "source": [
    "# SVC"
   ]
  },
  {
   "cell_type": "markdown",
   "metadata": {},
   "source": [
    "### linear kernel ile"
   ]
  },
  {
   "cell_type": "code",
   "execution_count": 61,
   "metadata": {
    "colab": {
     "base_uri": "https://localhost:8080/"
    },
    "id": "6UQ8GGWZI-_a",
    "outputId": "3af955fc-2037-4293-dea0-8dccf83cdbc5"
   },
   "outputs": [
    {
     "name": "stdout",
     "output_type": "stream",
     "text": [
      "              precision    recall  f1-score   support\n",
      "\n",
      "           0       0.91      0.70      0.79        43\n",
      "           1       0.78      0.94      0.85        48\n",
      "\n",
      "    accuracy                           0.82        91\n",
      "   macro avg       0.84      0.82      0.82        91\n",
      "weighted avg       0.84      0.82      0.82        91\n",
      "\n",
      "              precision    recall  f1-score   support\n",
      "\n",
      "           0       0.88      0.74      0.80        95\n",
      "           1       0.81      0.91      0.86       116\n",
      "\n",
      "    accuracy                           0.83       211\n",
      "   macro avg       0.84      0.83      0.83       211\n",
      "weighted avg       0.84      0.83      0.83       211\n",
      "\n"
     ]
    }
   ],
   "source": [
    "modeli_qur_ve_overfit_yoxla(SVC(kernel='linear', C=0.1, gamma=0.1, random_state=13))"
   ]
  },
  {
   "cell_type": "markdown",
   "metadata": {},
   "source": [
    "### rbf kernel ilə"
   ]
  },
  {
   "cell_type": "code",
   "execution_count": 38,
   "metadata": {
    "colab": {
     "base_uri": "https://localhost:8080/"
    },
    "id": "Hy7IKTLaJQtP",
    "outputId": "e15b2b8c-2877-40c3-b3d6-078a268463d4"
   },
   "outputs": [
    {
     "name": "stdout",
     "output_type": "stream",
     "text": [
      "              precision    recall  f1-score   support\n",
      "\n",
      "           0       1.00      0.47      0.63        43\n",
      "           1       0.68      1.00      0.81        48\n",
      "\n",
      "    accuracy                           0.75        91\n",
      "   macro avg       0.84      0.73      0.72        91\n",
      "weighted avg       0.83      0.75      0.73        91\n",
      "\n",
      "              precision    recall  f1-score   support\n",
      "\n",
      "           0       0.90      0.40      0.55        95\n",
      "           1       0.66      0.97      0.79       116\n",
      "\n",
      "    accuracy                           0.71       211\n",
      "   macro avg       0.78      0.68      0.67       211\n",
      "weighted avg       0.77      0.71      0.68       211\n",
      "\n"
     ]
    }
   ],
   "source": [
    "modeli_qur_ve_overfit_yoxla(SVC(kernel='rbf', C=0.1, gamma=0.1))"
   ]
  },
  {
   "cell_type": "markdown",
   "metadata": {},
   "source": [
    "## Decision Tree"
   ]
  },
  {
   "cell_type": "code",
   "execution_count": 39,
   "metadata": {
    "colab": {
     "base_uri": "https://localhost:8080/"
    },
    "id": "ZsHIo1NfJVqW",
    "outputId": "c2e37590-8241-43c7-f681-895cace4b93b"
   },
   "outputs": [
    {
     "name": "stdout",
     "output_type": "stream",
     "text": [
      "              precision    recall  f1-score   support\n",
      "\n",
      "           0       0.75      0.56      0.64        43\n",
      "           1       0.68      0.83      0.75        48\n",
      "\n",
      "    accuracy                           0.70        91\n",
      "   macro avg       0.71      0.70      0.69        91\n",
      "weighted avg       0.71      0.70      0.70        91\n",
      "\n",
      "              precision    recall  f1-score   support\n",
      "\n",
      "           0       0.88      0.74      0.80        95\n",
      "           1       0.81      0.91      0.86       116\n",
      "\n",
      "    accuracy                           0.83       211\n",
      "   macro avg       0.84      0.83      0.83       211\n",
      "weighted avg       0.84      0.83      0.83       211\n",
      "\n"
     ]
    }
   ],
   "source": [
    "modeli_qur_ve_overfit_yoxla(DecisionTreeClassifier(max_depth=3,criterion='entropy'))"
   ]
  },
  {
   "cell_type": "markdown",
   "metadata": {},
   "source": [
    "## Random Forest"
   ]
  },
  {
   "cell_type": "code",
   "execution_count": 40,
   "metadata": {
    "colab": {
     "base_uri": "https://localhost:8080/"
    },
    "id": "CltuMd1FJc6w",
    "outputId": "3132a812-cc6a-4dfb-ab90-1fc21903c10c"
   },
   "outputs": [
    {
     "name": "stdout",
     "output_type": "stream",
     "text": [
      "              precision    recall  f1-score   support\n",
      "\n",
      "           0       0.89      0.77      0.82        43\n",
      "           1       0.81      0.92      0.86        48\n",
      "\n",
      "    accuracy                           0.85        91\n",
      "   macro avg       0.85      0.84      0.84        91\n",
      "weighted avg       0.85      0.85      0.84        91\n",
      "\n",
      "              precision    recall  f1-score   support\n",
      "\n",
      "           0       0.96      0.91      0.93        95\n",
      "           1       0.93      0.97      0.95       116\n",
      "\n",
      "    accuracy                           0.94       211\n",
      "   macro avg       0.94      0.94      0.94       211\n",
      "weighted avg       0.94      0.94      0.94       211\n",
      "\n"
     ]
    }
   ],
   "source": [
    "modeli_qur_ve_overfit_yoxla(RandomForestClassifier(n_estimators=100,max_depth=5,criterion='entropy'))"
   ]
  },
  {
   "cell_type": "markdown",
   "metadata": {},
   "source": [
    "## KNN "
   ]
  },
  {
   "cell_type": "code",
   "execution_count": 41,
   "metadata": {
    "colab": {
     "base_uri": "https://localhost:8080/"
    },
    "id": "CrKmzNU0JkCe",
    "outputId": "9aa16f8b-39ff-4ba0-fc16-092c5a8d5c7b"
   },
   "outputs": [
    {
     "name": "stdout",
     "output_type": "stream",
     "text": [
      "              precision    recall  f1-score   support\n",
      "\n",
      "           0       0.80      0.81      0.80        43\n",
      "           1       0.83      0.81      0.82        48\n",
      "\n",
      "    accuracy                           0.81        91\n",
      "   macro avg       0.81      0.81      0.81        91\n",
      "weighted avg       0.81      0.81      0.81        91\n",
      "\n",
      "              precision    recall  f1-score   support\n",
      "\n",
      "           0       0.84      0.87      0.86        95\n",
      "           1       0.89      0.86      0.88       116\n",
      "\n",
      "    accuracy                           0.87       211\n",
      "   macro avg       0.87      0.87      0.87       211\n",
      "weighted avg       0.87      0.87      0.87       211\n",
      "\n"
     ]
    }
   ],
   "source": [
    "modeli_qur_ve_overfit_yoxla(KNeighborsClassifier(n_neighbors=5))"
   ]
  },
  {
   "cell_type": "markdown",
   "metadata": {},
   "source": [
    "## Naive Bayes"
   ]
  },
  {
   "cell_type": "code",
   "execution_count": 42,
   "metadata": {},
   "outputs": [
    {
     "name": "stdout",
     "output_type": "stream",
     "text": [
      "              precision    recall  f1-score   support\n",
      "\n",
      "           0       0.87      0.77      0.81        43\n",
      "           1       0.81      0.90      0.85        48\n",
      "\n",
      "    accuracy                           0.84        91\n",
      "   macro avg       0.84      0.83      0.83        91\n",
      "weighted avg       0.84      0.84      0.83        91\n",
      "\n",
      "              precision    recall  f1-score   support\n",
      "\n",
      "           0       0.86      0.79      0.82        95\n",
      "           1       0.84      0.90      0.87       116\n",
      "\n",
      "    accuracy                           0.85       211\n",
      "   macro avg       0.85      0.84      0.85       211\n",
      "weighted avg       0.85      0.85      0.85       211\n",
      "\n"
     ]
    }
   ],
   "source": [
    "modeli_qur_ve_overfit_yoxla(GaussianNB())"
   ]
  },
  {
   "cell_type": "markdown",
   "metadata": {},
   "source": [
    "## SVC "
   ]
  },
  {
   "cell_type": "code",
   "execution_count": 43,
   "metadata": {
    "colab": {
     "base_uri": "https://localhost:8080/"
    },
    "id": "NbL1XlF0NeMO",
    "outputId": "b253dfe1-3c70-4a68-b268-6dc728e4e156"
   },
   "outputs": [
    {
     "name": "stdout",
     "output_type": "stream",
     "text": [
      "              precision    recall  f1-score   support\n",
      "\n",
      "           0       0.91      0.70      0.79        43\n",
      "           1       0.78      0.94      0.85        48\n",
      "\n",
      "    accuracy                           0.82        91\n",
      "   macro avg       0.84      0.82      0.82        91\n",
      "weighted avg       0.84      0.82      0.82        91\n",
      "\n",
      "              precision    recall  f1-score   support\n",
      "\n",
      "           0       0.88      0.74      0.80        95\n",
      "           1       0.81      0.91      0.86       116\n",
      "\n",
      "    accuracy                           0.83       211\n",
      "   macro avg       0.84      0.83      0.83       211\n",
      "weighted avg       0.84      0.83      0.83       211\n",
      "\n"
     ]
    }
   ],
   "source": [
    "model=SVC(kernel='linear', C=0.1, gamma=0.1, random_state=13, probability=True)\n",
    "model.fit(x_train_scaled, y_train)\n",
    "y_predict_test=model.predict(x_test_scaled)\n",
    "print(classification_report(y_test, y_predict_test))\n",
    "y_predict_train=model.predict(x_train_scaled)\n",
    "print(classification_report(y_train, y_predict_train))"
   ]
  },
  {
   "cell_type": "code",
   "execution_count": 44,
   "metadata": {
    "colab": {
     "base_uri": "https://localhost:8080/"
    },
    "id": "VH-w1BJ6saGu",
    "outputId": "b6ee587d-1417-4c96-c568-534cedff92df"
   },
   "outputs": [
    {
     "data": {
      "text/plain": [
       "array([[ 70,  25],\n",
       "       [ 10, 106]], dtype=int64)"
      ]
     },
     "execution_count": 44,
     "metadata": {},
     "output_type": "execute_result"
    }
   ],
   "source": [
    "confusion_matrix(y_train, y_predict_train)"
   ]
  },
  {
   "cell_type": "code",
   "execution_count": 45,
   "metadata": {
    "colab": {
     "base_uri": "https://localhost:8080/"
    },
    "id": "84F05HKBnTyb",
    "outputId": "defc5c50-ad83-4d99-940d-75cbb76cef75"
   },
   "outputs": [
    {
     "data": {
      "text/plain": [
       "array([[30, 13],\n",
       "       [ 3, 45]], dtype=int64)"
      ]
     },
     "execution_count": 45,
     "metadata": {},
     "output_type": "execute_result"
    }
   ],
   "source": [
    "confusion_matrix(y_test,y_predict_test)"
   ]
  },
  {
   "cell_type": "code",
   "execution_count": 46,
   "metadata": {
    "colab": {
     "base_uri": "https://localhost:8080/",
     "height": 452
    },
    "id": "eIF7RaT_noic",
    "outputId": "9bd2e774-70bd-4518-b475-2aebc4fe358d"
   },
   "outputs": [
    {
     "data": {
      "text/plain": [
       "<Axes: >"
      ]
     },
     "execution_count": 46,
     "metadata": {},
     "output_type": "execute_result"
    },
    {
     "data": {
      "image/png": "[encoded data removed]",
      "text/plain": [
       "<Figure size 640x480 with 2 Axes>"
      ]
     },
     "metadata": {},
     "output_type": "display_data"
    }
   ],
   "source": [
    "sns.heatmap(confusion_matrix(y_test,y_predict_test), annot=True)"
   ]
  },
  {
   "cell_type": "code",
   "execution_count": 107,
   "metadata": {
    "id": "f2hMqDpdoDuI"
   },
   "outputs": [],
   "source": [
    "y_predicted=model.predict_proba(x_test_scaled)[:,1]"
   ]
  },
  {
   "cell_type": "code",
   "execution_count": 108,
   "metadata": {
    "colab": {
     "base_uri": "https://localhost:8080/"
    },
    "id": "vCAMbIsWoUe6",
    "outputId": "02f41a52-eda1-4f13-91f9-2ce3c434c189"
   },
   "outputs": [
    {
     "data": {
      "text/plain": [
       "array([0.90228378, 0.89409004, 0.65353583, 0.94793593, 0.03769649,\n",
       "       0.85530744, 0.88184513, 0.03351025, 0.10492557, 0.85370237,\n",
       "       0.16284151, 0.78035724, 0.7064755 , 0.24365121, 0.92839646,\n",
       "       0.78814974, 0.97040552, 0.49294662, 0.78649274, 0.11549451,\n",
       "       0.05915243, 0.24713298, 0.49317501, 0.16557891, 0.08068167,\n",
       "       0.92459314, 0.03310871, 0.84742497, 0.0410428 , 0.89845298,\n",
       "       0.02796055, 0.55770906, 0.87033815, 0.52102867, 0.94567151,\n",
       "       0.369077  , 0.87084908, 0.69687192, 0.89081231, 0.94280603,\n",
       "       0.13195817, 0.89205511, 0.94199606, 0.76784023, 0.03513863,\n",
       "       0.66818041, 0.71835172, 0.94387686, 0.98088355, 0.1573396 ,\n",
       "       0.03262971, 0.38816594, 0.25815341, 0.10055186, 0.78918144,\n",
       "       0.23830514, 0.10932566, 0.97864436, 0.93669771, 0.73103756,\n",
       "       0.88263668, 0.76024997, 0.11503826, 0.90925389, 0.59058922,\n",
       "       0.10172169, 0.90303764, 0.64702708, 0.95191148, 0.85045406,\n",
       "       0.95247291, 0.52266945, 0.86826935, 0.28141616, 0.98134678,\n",
       "       0.02097969, 0.29282293, 0.91024183, 0.69078717, 0.86631285,\n",
       "       0.65962157, 0.84363614, 0.04670389, 0.02903744, 0.36536149,\n",
       "       0.75591633, 0.55883477, 0.8366523 , 0.12108573, 0.54861834,\n",
       "       0.20040794])"
      ]
     },
     "execution_count": 108,
     "metadata": {},
     "output_type": "execute_result"
    }
   ],
   "source": [
    "y_predicted"
   ]
  },
  {
   "cell_type": "code",
   "execution_count": 118,
   "metadata": {
    "id": "5TRTRcjXopH5",
    "scrolled": true
   },
   "outputs": [
    {
     "name": "stdout",
     "output_type": "stream",
     "text": [
      "[0.         0.02083333 0.22916667 0.22916667 0.27083333 0.27083333\n",
      " 0.47916667 0.47916667 0.5625     0.5625     0.625      0.625\n",
      " 0.75       0.75       0.79166667 0.79166667 0.875      0.875\n",
      " 0.91666667 0.91666667 0.9375     0.9375     0.97916667 0.97916667\n",
      " 1.         1.        ] \n",
      "\n",
      "\n",
      "\n",
      "[0.         0.         0.         0.02325581 0.02325581 0.04651163\n",
      " 0.04651163 0.06976744 0.06976744 0.09302326 0.09302326 0.11627907\n",
      " 0.11627907 0.18604651 0.18604651 0.20930233 0.20930233 0.23255814\n",
      " 0.23255814 0.30232558 0.30232558 0.3255814  0.3255814  0.41860465\n",
      " 0.41860465 1.        ] \n",
      "\n",
      "\n",
      "\n",
      "[1.98134678 0.98134678 0.94199606 0.93669771 0.92459314 0.91024183\n",
      " 0.87084908 0.87033815 0.85370237 0.85045406 0.8366523  0.78918144\n",
      " 0.75591633 0.7064755  0.69078717 0.66818041 0.59058922 0.55883477\n",
      " 0.54861834 0.49317501 0.49294662 0.38816594 0.36536149 0.24713298\n",
      " 0.24365121 0.02097969] \n",
      "\n",
      "\n",
      "\n"
     ]
    }
   ],
   "source": [
    "from sklearn.metrics import roc_curve\n",
    "fpr, tpr, thresholds= roc_curve(y_test, y_predicted)\n",
    "print(tpr,'\\n\\n\\n')\n",
    "print(fpr,'\\n\\n\\n')\n",
    "print(thresholds,'\\n\\n\\n')"
   ]
  },
  {
   "cell_type": "code",
   "execution_count": 119,
   "metadata": {
    "colab": {
     "base_uri": "https://localhost:8080/",
     "height": 472
    },
    "id": "WAtZP5X2o3pm",
    "outputId": "04ef57a0-3b68-4a81-99e1-e76f2e02da66"
   },
   "outputs": [
    {
     "data": {
      "text/plain": [
       "Text(0.5, 1.0, 'ROC Curve')"
      ]
     },
     "execution_count": 119,
     "metadata": {},
     "output_type": "execute_result"
    },
    {
     "data": {
      "image/png": "[encoded data removed]",
      "text/plain": [
       "<Figure size 640x480 with 1 Axes>"
      ]
     },
     "metadata": {},
     "output_type": "display_data"
    }
   ],
   "source": [
    "plt.plot(fpr, tpr, marker=\".\", color='green')\n",
    "plt.plot([0,1],[0,1], color='black', linestyle='--')\n",
    "plt.xlabel('False Positive Rate')\n",
    "plt.ylabel('True Positive Rate')\n",
    "plt.title('ROC Curve')\n",
    "#plt.show()"
   ]
  },
  {
   "cell_type": "code",
   "execution_count": 96,
   "metadata": {
    "id": "s0xEBxSMpixQ"
   },
   "outputs": [],
   "source": [
    "from sklearn.metrics import roc_auc_score"
   ]
  },
  {
   "cell_type": "code",
   "execution_count": 72,
   "metadata": {
    "colab": {
     "base_uri": "https://localhost:8080/"
    },
    "id": "yas6MTddo7tS",
    "outputId": "0c2722a5-6bf1-4fb6-ecf1-75bd1e2355f9"
   },
   "outputs": [
    {
     "data": {
      "text/plain": [
       "0.8997093023255813"
      ]
     },
     "execution_count": 72,
     "metadata": {},
     "output_type": "execute_result"
    }
   ],
   "source": [
    "auc=roc_auc_score(y_test, y_predicted)\n",
    "auc"
   ]
  },
  {
   "cell_type": "code",
   "execution_count": 53,
   "metadata": {
    "colab": {
     "base_uri": "https://localhost:8080/"
    },
    "id": "6uCHFZJ7pT5Y",
    "outputId": "1dc8ac46-ba68-4cdc-a98e-c48c7caf2e1d"
   },
   "outputs": [
    {
     "data": {
      "text/plain": [
       "0.9"
      ]
     },
     "execution_count": 53,
     "metadata": {},
     "output_type": "execute_result"
    }
   ],
   "source": [
    "round(auc,2)"
   ]
  },
  {
   "cell_type": "code",
   "execution_count": null,
   "metadata": {
    "colab": {
     "base_uri": "https://localhost:8080/",
     "height": 443
    },
    "id": "2fDWjQYlRwWQ",
    "outputId": "7116542d-38ed-4db8-ec0d-eea9adae4518"
   },
   "outputs": [],
   "source": []
  },
  {
   "cell_type": "code",
   "execution_count": null,
   "metadata": {
    "id": "fSsE9u6yQycu"
   },
   "outputs": [],
   "source": []
  },
  {
   "cell_type": "code",
   "execution_count": null,
   "metadata": {
    "colab": {
     "base_uri": "https://localhost:8080/"
    },
    "id": "gS_eo4UDV3h-",
    "outputId": "06c3e44e-4668-4868-b06c-8c9575870a9e"
   },
   "outputs": [],
   "source": []
  },
  {
   "cell_type": "code",
   "execution_count": null,
   "metadata": {
    "colab": {
     "base_uri": "https://localhost:8080/"
    },
    "id": "PJ3-f_vDRCsx",
    "outputId": "f53cc384-7ce7-4fb7-c3fb-c90ded516950"
   },
   "outputs": [],
   "source": []
  },
  {
   "cell_type": "code",
   "execution_count": null,
   "metadata": {},
   "outputs": [],
   "source": []
  },
  {
   "cell_type": "code",
   "execution_count": null,
   "metadata": {},
   "outputs": [],
   "source": []
  },
  {
   "cell_type": "code",
   "execution_count": null,
   "metadata": {},
   "outputs": [],
   "source": []
  },
  {
   "cell_type": "code",
   "execution_count": null,
   "metadata": {},
   "outputs": [],
   "source": []
  },
  {
   "cell_type": "code",
   "execution_count": null,
   "metadata": {},
   "outputs": [],
   "source": []
  },
  {
   "cell_type": "code",
   "execution_count": null,
   "metadata": {},
   "outputs": [],
   "source": [
    "\n"
   ]
  },
  {
   "cell_type": "code",
   "execution_count": null,
   "metadata": {},
   "outputs": [],
   "source": []
  },
  {
   "cell_type": "code",
   "execution_count": null,
   "metadata": {},
   "outputs": [],
   "source": []
  },
  {
   "cell_type": "code",
   "execution_count": 2,
   "metadata": {},
   "outputs": [
    {
     "data": {
      "text/plain": [
       "0"
      ]
     },
     "execution_count": 2,
     "metadata": {},
     "output_type": "execute_result"
    }
   ],
   "source": [
    "0"
   ]
  },
  {
   "cell_type": "code",
   "execution_count": 3,
   "metadata": {},
   "outputs": [
    {
     "data": {
      "text/plain": [
       "8"
      ]
     },
     "execution_count": 3,
     "metadata": {},
     "output_type": "execute_result"
    }
   ],
   "source": [
    "8"
   ]
  },
  {
   "cell_type": "code",
   "execution_count": 4,
   "metadata": {},
   "outputs": [
    {
     "data": {
      "image/png": "[encoded data removed]",
      "text/plain": [
       "<Figure size 600x600 with 1 Axes>"
      ]
     },
     "metadata": {},
     "output_type": "display_data"
    }
   ],
   "source": [
    "import networkx as nx\n",
    "import matplotlib.pyplot as plt\n",
    "\n",
    "# Qrafı yaradaq\n",
    "G = nx.DiGraph()\n",
    "\n",
    "# Düyünlər və keçid ehtimalları\n",
    "edges = [(\"A\", \"B\", 0.6), (\"A\", \"C\", 0.4),\n",
    "         (\"B\", \"A\", 0.5), (\"B\", \"C\", 0.5),\n",
    "         (\"C\", \"A\", 0.7), (\"C\", \"B\", 0.3)]\n",
    "\n",
    "for u, v, w in edges:\n",
    "    G.add_edge(u, v, weight=w)\n",
    "\n",
    "pos = nx.spring_layout(G, seed=42)\n",
    "\n",
    "plt.figure(figsize=(6, 6))\n",
    "nx.draw(G, pos, with_labels=True, node_color='lightblue', edge_color='gray', node_size=2000, font_size=12)\n",
    "\n",
    "edge_labels = {(u, v): f\"{w:.1f}\" for u, v, w in edges}\n",
    "nx.draw_networkx_edge_labels(G, pos, edge_labels=edge_labels, font_size=12)\n",
    "\n",
    "plt.title(\"Markov Zənciri: Keçid Ehtimalları\")\n",
    "plt.show()\n"
   ]
  },
  {
   "cell_type": "code",
   "execution_count": null,
   "metadata": {},
   "outputs": [],
   "source": []
  }
 ],
 "metadata": {
  "colab": {
   "provenance": []
  },
  "kernelspec": {
   "display_name": "Python 3 (ipykernel)",
   "language": "python",
   "name": "python3"
  },
  "language_info": {
   "codemirror_mode": {
    "name": "ipython",
    "version": 3
   },
   "file_extension": ".py",
   "mimetype": "text/x-python",
   "name": "python",
   "nbconvert_exporter": "python",
   "pygments_lexer": "ipython3",
   "version": "3.11.7"
  }
 },
 "nbformat": 4,
 "nbformat_minor": 4
}
